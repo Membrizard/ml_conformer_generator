{
 "cells": [
  {
   "cell_type": "markdown",
   "id": "ec49ae3f-36f8-47e0-b746-b80d3c8f483d",
   "metadata": {},
   "source": [
    "## Generate Molecules using a Reference Molecule and evaluate results (PyTorch)"
   ]
  },
  {
   "cell_type": "code",
   "execution_count": null,
   "id": "269b5b82-bc66-401a-9207-e40dd8880b71",
   "metadata": {},
   "outputs": [],
   "source": [
    "import time\n",
    "import torch\n",
    "\n",
    "from rdkit import Chem\n",
    "from rdkit import RDLogger\n",
    "from rdkit.Chem import rdDistGeom\n",
    "from rdkit.Chem import Draw\n",
    "\n",
    "from ml_conformer_generator import MLConformerGenerator, evaluate_samples\n",
    "\n",
    "RDLogger.DisableLog('rdApp.*')\n",
    "\n",
    "if torch.cuda.is_available():\n",
    "    device = torch.device(\"cuda:0\")\n",
    "elif torch.backends.mps.is_available():\n",
    "    device = torch.device(\"mps:0\")\n",
    "else:\n",
    "    device = torch.device(\"cpu\")\n",
    "\n",
    "print(f\"Intitialising model on {device}\")\n",
    "    \n",
    "generator = MLConformerGenerator(device=device, diffusion_steps=100)\n",
    "\n",
    "ref_mol = Chem.MolFromSmiles('Cc1cccc(N2CCC[C@H]2c2ccncn2)n1')\n",
    "rdDistGeom.EmbedMolecule(ref_mol, forceTol=0.001, randomSeed=12)\n",
    "\n",
    "# Generate Samples\n",
    "print(\"Generation started...\")\n",
    "start = time.time()\n",
    "samples = generator.generate_conformers(reference_conformer=ref_mol, n_samples=10, variance=2)\n",
    "print(f\"Generation complete in {round(time.time() - start, 2)}\")\n",
    "\n",
    "# Characterise samples   \n",
    "_, std_samples = evaluate_samples(ref_mol, samples)\n",
    "\n",
    "# Display results\n",
    "mols = []\n",
    "legends = []\n",
    "for sample in std_samples:\n",
    "    mol = Chem.MolFromMolBlock(sample['mol_block'])\n",
    "    mol = Chem.MolFromSmiles(Chem.MolToSmiles(mol))\n",
    "    mol.SetProp(\"Shape_Tanimoto\", str(sample['shape_tanimoto']))\n",
    "    mols.append(mol)\n",
    "    legends.append(f\"Shape Similarity - {round(sample['shape_tanimoto'], 2)}\")\n",
    "    \n",
    "Draw.MolsToGridImage(mols, legends=legends)"
   ]
  },
  {
   "cell_type": "markdown",
   "id": "596f2f43-fddc-4b9c-a0d1-0d102e5414cd",
   "metadata": {},
   "source": [
    "## Generate Molecules using an arbitrary shape (protein pocket) \n",
    "requires trimesh >= 4.6.4 library to be installed "
   ]
  },
  {
   "cell_type": "code",
   "execution_count": null,
   "id": "dc78c947-3b14-42a6-b8ff-e5042700e8eb",
   "metadata": {},
   "outputs": [],
   "source": [
    "!pip install trimesh"
   ]
  },
  {
   "cell_type": "code",
   "execution_count": null,
   "id": "2f57fd8e-f0cc-4d54-9688-306dd974f5ff",
   "metadata": {},
   "outputs": [],
   "source": [
    "import torch\n",
    "import trimesh\n",
    "\n",
    "from rdkit import Chem\n",
    "from rdkit.Chem import rdDistGeom\n",
    "from rdkit.Chem import Draw\n",
    "from rdkit import RDLogger\n",
    "\n",
    "from ml_conformer_generator import MLConformerGenerator\n",
    "\n",
    "if torch.cuda.is_available():\n",
    "    device = torch.device(\"cuda:0\")\n",
    "elif torch.backends.mps.is_available():\n",
    "    device = torch.device(\"mps:0\")\n",
    "else:\n",
    "    device = torch.device(\"cpu\")\n",
    "\n",
    "print(f\"Intitialising model on {device}\")\n",
    "\n",
    "# Load example - CLK1 pocket as .stl file\n",
    "mymesh = trimesh.load('./ml_conformer_generator/ml_conformer_generator/utils/mol_examples/6q8k_pocket.stl')\n",
    "mymesh.density = 0.02\n",
    "\n",
    "# The shape that you are using needs to be watertight\n",
    "check = mymesh.is_watertight\n",
    "\n",
    "if not check:\n",
    "    raise ValueError(\"The .stl file needs to be watertight.\")\n",
    "\n",
    "ref_context = torch.tensor(mymesh.principal_inertia_components, dtype=torch.float32)\n",
    "\n",
    "generator = MLConformerGenerator(device=device)\n",
    "\n",
    "# Generate Samples\n",
    "print(\"Generation started...\")\n",
    "start = time.time()\n",
    "samples = generator.generate_conformers(reference_context=ref_context, n_atoms=38, n_samples=10, variance=1)\n",
    "print(f\"Generation complete in {round(time.time() - start, 2)}\")\n",
    "\n",
    "# Display results\n",
    "mols = [Chem.MolFromSmiles(Chem.MolToSmiles(x)) for x in samples]\n",
    "\n",
    "Draw.MolsToGridImage(mols)"
   ]
  },
  {
   "cell_type": "markdown",
   "id": "5427fd37-d04c-4278-b6c3-af578659053f",
   "metadata": {},
   "source": [
    "## Export MLConformerGenerator to ONNX"
   ]
  },
  {
   "cell_type": "code",
   "execution_count": null,
   "id": "a55a3ec4-44bc-452f-af63-0efc658d88dc",
   "metadata": {},
   "outputs": [],
   "source": [
    "from ml_conformer_generator import MLConformerGenerator\n",
    "    \n",
    "generator = MLConformerGenerator()\n",
    "generator.export_to_onnx()"
   ]
  },
  {
   "cell_type": "markdown",
   "id": "716d3693-db75-4820-8202-60c7a90f08b9",
   "metadata": {},
   "source": [
    "## Generate Molecules using a Reference Molecule (ONNX)"
   ]
  },
  {
   "cell_type": "code",
   "execution_count": null,
   "id": "5b75e9ec-e1d1-4272-beee-37c047e4028a",
   "metadata": {},
   "outputs": [],
   "source": [
    "import time\n",
    "\n",
    "from rdkit import Chem\n",
    "from rdkit.Chem import rdDistGeom\n",
    "from rdkit import RDLogger\n",
    "from rdkit.Chem import Draw\n",
    "\n",
    "from ml_conformer_generator import MLConformerGeneratorONNX\n",
    "\n",
    "RDLogger.DisableLog('rdApp.*')\n",
    "    \n",
    "generator = MLConformerGeneratorONNX()\n",
    "\n",
    "ref_mol = Chem.MolFromSmiles('Cc1cccc(N2CCC[C@H]2c2ccncn2)n1')\n",
    "rdDistGeom.EmbedMolecule(ref_mol, forceTol=0.001, randomSeed=12)\n",
    "\n",
    "# Generate Samples\n",
    "print(\"Generation started...\")\n",
    "start = time.time()\n",
    "samples = generator.generate_conformers(reference_conformer=ref_mol, n_samples=10, variance=2)\n",
    "print(f\"Generation complete in {round(time.time() - start, 2)}\")\n",
    "\n",
    "# Display results\n",
    "mols = [Chem.MolFromSmiles(Chem.MolToSmiles(x)) for x in samples]\n",
    "    \n",
    "Draw.MolsToGridImage(mols)"
   ]
  },
  {
   "cell_type": "code",
   "execution_count": null,
   "id": "37bf6c8a-9698-47d7-a69c-66da0b921675",
   "metadata": {},
   "outputs": [],
   "source": []
  }
 ],
 "metadata": {
  "kernelspec": {
   "display_name": "Python 3 (ipykernel)",
   "language": "python",
   "name": "python3"
  },
  "language_info": {
   "codemirror_mode": {
    "name": "ipython",
    "version": 3
   },
   "file_extension": ".py",
   "mimetype": "text/x-python",
   "name": "python",
   "nbconvert_exporter": "python",
   "pygments_lexer": "ipython3",
   "version": "3.10.16"
  }
 },
 "nbformat": 4,
 "nbformat_minor": 5
}
