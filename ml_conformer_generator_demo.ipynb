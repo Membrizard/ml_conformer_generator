{
 "cells": [
  {
   "cell_type": "code",
   "execution_count": 2,
   "id": "269b5b82-bc66-401a-9207-e40dd8880b71",
   "metadata": {},
   "outputs": [
    {
     "name": "stderr",
     "output_type": "stream",
     "text": [
      "[09:09:56] Molecule does not have explicit Hs. Consider calling AddHs()\n",
      "[09:09:58] non-ring atom 3 marked aromatic\n",
      "[09:09:58] Explicit valence for atom # 6 C, 5, is greater than permitted\n",
      "[09:09:58] Initializing MetalDisconnector\n",
      "[09:09:58] Running MetalDisconnector\n",
      "[09:09:58] Initializing Normalizer\n",
      "[09:09:58] Running Normalizer\n",
      "[09:09:58] Running LargestFragmentChooser\n",
      "[09:09:58] Initializing MetalDisconnector\n",
      "[09:09:58] Running MetalDisconnector\n",
      "[09:09:58] Initializing Normalizer\n",
      "[09:09:58] Running Normalizer\n",
      "[09:09:58] Running LargestFragmentChooser\n",
      "[09:09:58] Fragment: CCNC(=S)CC(C(C)C)C1CC(C)(C)O1\n",
      "[09:09:58] New largest fragment: CCNC(=S)CC(C(C)C)C1CC(C)(C)O1 (41)\n",
      "[09:09:58] Fragment: C\n"
     ]
    },
    {
     "name": "stdout",
     "output_type": "stream",
     "text": [
      "generation complete in 1.41\n"
     ]
    },
    {
     "data": {
      "image/png": "[encoded data removed]",
      "text/plain": [
       "<IPython.core.display.Image object>"
      ]
     },
     "execution_count": 2,
     "metadata": {},
     "output_type": "execute_result"
    }
   ],
   "source": [
    "from ml_conformer_generator import MLConformerGenerator, evaluate_samples\n",
    "from rdkit import Chem\n",
    "from rdkit.Chem import rdDistGeom\n",
    "\n",
    "from rdkit.Chem import Draw\n",
    "import time\n",
    "    \n",
    "device = \"cpu\"\n",
    "generator = MLConformerGenerator(device=device)\n",
    "\n",
    "ref_mol = Chem.MolFromSmiles('Cc1cccc(N2CCC[C@H]2c2ccncn2)n1')\n",
    "rdDistGeom.EmbedMolecule(ref_mol, forceTol=0.001, randomSeed=12)\n",
    "\n",
    "# Generate Samples\n",
    "start = time.time()\n",
    "samples = generator.generate_conformers(reference_conformer=ref_mol, n_samples=4, variance=2)\n",
    "print(f\"generation complete in {round(time.time() - start, 2)}\")\n",
    "\n",
    "# Characterise samples   \n",
    "_, std_samples = evaluate_samples(ref_mol, samples)\n",
    "    \n",
    "mols = []\n",
    "for sample in std_samples:\n",
    "    mol = Chem.MolFromMolBlock(sample['mol_block'])\n",
    "    mol = Chem.MolFromSmiles(Chem.MolToSmiles(mol))\n",
    "    mol.SetProp(\"Shape_Tanimoto\", str(sample['shape_tanimoto']))\n",
    "    mols.append(mol)\n",
    "    \n",
    "Draw.MolsToGridImage(mols)\n",
    "\n",
    "# CPU:\n",
    "# 135.00 sec without compilation\n",
    "# 143.36 sec without compilation, optimised EDM\n",
    "# 118.54 - 124.56 sec torch script compile"
   ]
  },
  {
   "cell_type": "code",
   "execution_count": null,
   "id": "2f57fd8e-f0cc-4d54-9688-306dd974f5ff",
   "metadata": {},
   "outputs": [],
   "source": [
    "import trimesh\n",
    "from ml_conformer_generator import MLConformerGenerator, evaluate_samples\n",
    "from rdkit import Chem\n",
    "from rdkit.Chem import rdDistGeom\n",
    "\n",
    "from rdkit.Chem import Draw\n",
    "import torch\n",
    "\n",
    "mymesh = trimesh.load('./6q8k_pocket_a.stl')\n",
    "mymesh.density = 0.02\n",
    "check = mymesh.is_watertight\n",
    "print(check)\n",
    "ref_context = torch.tensor(mymesh.principal_inertia_components, dtype=torch.float32)\n",
    "\n",
    "device = \"cpu\"\n",
    "generator = MLConformerGenerator(device=device)\n",
    "\n",
    "\n",
    "\n",
    "# Generate Samples\n",
    "samples = generator.generate_conformers(reference_context=ref_context, n_atoms=27, n_samples=4, variance=12)\n",
    "\n",
    "# Characterise samples   \n",
    "# _, std_samples = evaluate_samples(ref_mol, samples)\n",
    "\n",
    "mols = []\n",
    "for i, sample in enumerate(samples):\n",
    "    Chem.MolToMolFile(sample, f\"./6q8k_gen_sample_{i}.mol\")\n",
    "    mol = sample\n",
    "    mol = Chem.MolFromSmiles(Chem.MolToSmiles(mol))\n",
    "    mols.append(mol)\n",
    "\n",
    "Draw.MolsToGridImage(mols)"
   ]
  },
  {
   "cell_type": "code",
   "execution_count": null,
   "id": "6329991d-2289-4768-9d55-18830620400b",
   "metadata": {},
   "outputs": [],
   "source": [
    "from rdkit import Chem\n",
    "from rdkit.Chem import rdDistGeom\n",
    "\n",
    "from rdkit.Chem import Draw\n",
    "\n",
    "reader = Chem.SDMolSupplier(\"./31_39_6q8k_generated_molecules.sdf\")\n",
    "mols = []\n",
    "for sample in reader:\n",
    "    mol = sample\n",
    "    mol = Chem.MolFromSmiles(Chem.MolToSmiles(mol))\n",
    "    mols.append(mol)\n",
    "\n",
    "Draw.MolsToGridImage(mols)\n",
    "\n"
   ]
  },
  {
   "cell_type": "code",
   "execution_count": null,
   "id": "37bf6c8a-9698-47d7-a69c-66da0b921675",
   "metadata": {},
   "outputs": [],
   "source": []
  }
 ],
 "metadata": {
  "kernelspec": {
   "display_name": "Python 3 (ipykernel)",
   "language": "python",
   "name": "python3"
  },
  "language_info": {
   "codemirror_mode": {
    "name": "ipython",
    "version": 3
   },
   "file_extension": ".py",
   "mimetype": "text/x-python",
   "name": "python",
   "nbconvert_exporter": "python",
   "pygments_lexer": "ipython3",
   "version": "3.10.16"
  }
 },
 "nbformat": 4,
 "nbformat_minor": 5
}
