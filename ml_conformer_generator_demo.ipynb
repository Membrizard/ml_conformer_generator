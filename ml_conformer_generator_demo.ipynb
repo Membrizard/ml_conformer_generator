{
 "cells": [
  {
   "cell_type": "code",
   "execution_count": null,
   "id": "269b5b82-bc66-401a-9207-e40dd8880b71",
   "metadata": {},
   "outputs": [],
   "source": [
    "from .ml_conformer_generator import MLConformerGenerator\n",
    "from cheminformatics import evaluate_samples\n",
    "device = \"cpu\"\n",
    "generator = MLConformerGenerator()\n",
    "samples = generator.\n",
    "\n"
   ]
  }
 ],
 "metadata": {
  "kernelspec": {
   "display_name": "Python 3 (ipykernel)",
   "language": "python",
   "name": "python3"
  },
  "language_info": {
   "codemirror_mode": {
    "name": "ipython",
    "version": 3
   },
   "file_extension": ".py",
   "mimetype": "text/x-python",
   "name": "python",
   "nbconvert_exporter": "python",
   "pygments_lexer": "ipython3",
   "version": "3.10.10"
  }
 },
 "nbformat": 4,
 "nbformat_minor": 5
}
