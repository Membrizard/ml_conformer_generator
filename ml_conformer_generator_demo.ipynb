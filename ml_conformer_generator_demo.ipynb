{
 "cells": [
  {
   "cell_type": "code",
   "execution_count": 2,
   "id": "269b5b82-bc66-401a-9207-e40dd8880b71",
   "metadata": {},
   "outputs": [
    {
     "name": "stderr",
     "output_type": "stream",
     "text": [
      "1000it [08:23,  1.98it/s]\n"
     ]
    },
    {
     "name": "stdout",
     "output_type": "stream",
     "text": [
      "[<rdkit.Chem.rdchem.Mol object at 0x11ea69b60>]\n"
     ]
    },
    {
     "name": "stderr",
     "output_type": "stream",
     "text": [
      "[18:48:22] Can't kekulize mol.  Unkekulized atoms: 12 13 14 15 31\n",
      "[18:48:22] Can't kekulize mol.  Unkekulized atoms: 16 17 18 19 20\n",
      "[18:48:22] Explicit valence for atom # 6 N, 4, is greater than permitted\n",
      "[18:48:22] Initializing MetalDisconnector\n",
      "[18:48:22] Running MetalDisconnector\n",
      "[18:48:22] Initializing Normalizer\n",
      "[18:48:22] Running Normalizer\n",
      "[18:48:22] Running LargestFragmentChooser\n",
      "[18:48:22] Running Normalizer\n",
      "[18:48:22] Running Uncharger\n"
     ]
    },
    {
     "data": {
      "image/png": "[encoded data removed]",
      "text/plain": [
       "<PIL.PngImagePlugin.PngImageFile image mode=RGB size=200x200>"
      ]
     },
     "metadata": {},
     "output_type": "display_data"
    },
    {
     "name": "stderr",
     "output_type": "stream",
     "text": [
      "[18:48:23] WARNING: Accepted unusual valence(s): C(1); C(2); C(3); N(2)\n",
      "\n"
     ]
    },
    {
     "ename": "FileNotFoundError",
     "evalue": "[Errno 2] No such file or directory: './full_15_39_atoms_conf_chembl.inchi'",
     "output_type": "error",
     "traceback": [
      "\u001b[0;31m---------------------------------------------------------------------------\u001b[0m",
      "\u001b[0;31mFileNotFoundError\u001b[0m                         Traceback (most recent call last)",
      "Cell \u001b[0;32mIn[2], line 42\u001b[0m\n\u001b[1;32m     39\u001b[0m view \u001b[38;5;241m=\u001b[39m py3Dmol\u001b[38;5;241m.\u001b[39mview(width\u001b[38;5;241m=\u001b[39m\u001b[38;5;241m400\u001b[39m, height\u001b[38;5;241m=\u001b[39m\u001b[38;5;241m300\u001b[39m, viewergrid\u001b[38;5;241m=\u001b[39m(\u001b[38;5;241m2\u001b[39m,\u001b[38;5;241m2\u001b[39m))\n\u001b[1;32m     41\u001b[0m \u001b[38;5;28;01mfor\u001b[39;00m sample \u001b[38;5;129;01min\u001b[39;00m std_samples:\n\u001b[0;32m---> 42\u001b[0m     \u001b[38;5;28mprint\u001b[39m(\u001b[38;5;124mf\u001b[39m\u001b[38;5;124m\"\u001b[39m\u001b[38;5;124mFound in training Dataset - \u001b[39m\u001b[38;5;132;01m{\u001b[39;00m\u001b[38;5;250m \u001b[39m\u001b[38;5;129;01mnot\u001b[39;00m\u001b[38;5;250m \u001b[39m\u001b[43mexact_match\u001b[49m\u001b[43m(\u001b[49m\u001b[43mChem\u001b[49m\u001b[38;5;241;43m.\u001b[39;49m\u001b[43mMolFromMolBlock\u001b[49m\u001b[43m(\u001b[49m\u001b[43msample\u001b[49m\u001b[43m[\u001b[49m\u001b[38;5;124;43m'\u001b[39;49m\u001b[38;5;124;43mmol_block\u001b[39;49m\u001b[38;5;124;43m'\u001b[39;49m\u001b[43m]\u001b[49m\u001b[43m)\u001b[49m\u001b[43m,\u001b[49m\u001b[38;5;250;43m \u001b[39;49m\u001b[43msource_path\u001b[49m\u001b[43m)\u001b[49m\u001b[38;5;132;01m}\u001b[39;00m\u001b[38;5;124m\"\u001b[39m)\n\u001b[1;32m     43\u001b[0m     view \u001b[38;5;241m=\u001b[39m py3Dmol\u001b[38;5;241m.\u001b[39mview(width\u001b[38;5;241m=\u001b[39m\u001b[38;5;241m400\u001b[39m, height\u001b[38;5;241m=\u001b[39m\u001b[38;5;241m300\u001b[39m)\n\u001b[1;32m     44\u001b[0m     view\u001b[38;5;241m.\u001b[39maddModel(sample[\u001b[38;5;124m'\u001b[39m\u001b[38;5;124mmol_block\u001b[39m\u001b[38;5;124m'\u001b[39m], \u001b[38;5;124m'\u001b[39m\u001b[38;5;124mmol\u001b[39m\u001b[38;5;124m'\u001b[39m)\n",
      "Cell \u001b[0;32mIn[2], line 13\u001b[0m, in \u001b[0;36mexact_match\u001b[0;34m(mol, source)\u001b[0m\n\u001b[1;32m     10\u001b[0m \u001b[38;5;28;01mdef\u001b[39;00m \u001b[38;5;21mexact_match\u001b[39m(mol, source):\n\u001b[1;32m     11\u001b[0m     sample_inchi \u001b[38;5;241m=\u001b[39m Chem\u001b[38;5;241m.\u001b[39mMolToInchi(mol)\n\u001b[0;32m---> 13\u001b[0m     \u001b[38;5;28;01mwith\u001b[39;00m \u001b[38;5;28;43mopen\u001b[39;49m\u001b[43m(\u001b[49m\u001b[43msource\u001b[49m\u001b[43m,\u001b[49m\u001b[43m \u001b[49m\u001b[38;5;124;43m\"\u001b[39;49m\u001b[38;5;124;43mr\u001b[39;49m\u001b[38;5;124;43m\"\u001b[39;49m\u001b[43m)\u001b[49m \u001b[38;5;28;01mas\u001b[39;00m f:\n\u001b[1;32m     14\u001b[0m         lines \u001b[38;5;241m=\u001b[39m f\u001b[38;5;241m.\u001b[39mreadlines()\n\u001b[1;32m     15\u001b[0m         \u001b[38;5;28;01mfor\u001b[39;00m line \u001b[38;5;129;01min\u001b[39;00m lines:\n",
      "File \u001b[0;32m~/miniconda3/lib/python3.10/site-packages/IPython/core/interactiveshell.py:284\u001b[0m, in \u001b[0;36m_modified_open\u001b[0;34m(file, *args, **kwargs)\u001b[0m\n\u001b[1;32m    277\u001b[0m \u001b[38;5;28;01mif\u001b[39;00m file \u001b[38;5;129;01min\u001b[39;00m {\u001b[38;5;241m0\u001b[39m, \u001b[38;5;241m1\u001b[39m, \u001b[38;5;241m2\u001b[39m}:\n\u001b[1;32m    278\u001b[0m     \u001b[38;5;28;01mraise\u001b[39;00m \u001b[38;5;167;01mValueError\u001b[39;00m(\n\u001b[1;32m    279\u001b[0m         \u001b[38;5;124mf\u001b[39m\u001b[38;5;124m\"\u001b[39m\u001b[38;5;124mIPython won\u001b[39m\u001b[38;5;124m'\u001b[39m\u001b[38;5;124mt let you open fd=\u001b[39m\u001b[38;5;132;01m{\u001b[39;00mfile\u001b[38;5;132;01m}\u001b[39;00m\u001b[38;5;124m by default \u001b[39m\u001b[38;5;124m\"\u001b[39m\n\u001b[1;32m    280\u001b[0m         \u001b[38;5;124m\"\u001b[39m\u001b[38;5;124mas it is likely to crash IPython. If you know what you are doing, \u001b[39m\u001b[38;5;124m\"\u001b[39m\n\u001b[1;32m    281\u001b[0m         \u001b[38;5;124m\"\u001b[39m\u001b[38;5;124myou can use builtins\u001b[39m\u001b[38;5;124m'\u001b[39m\u001b[38;5;124m open.\u001b[39m\u001b[38;5;124m\"\u001b[39m\n\u001b[1;32m    282\u001b[0m     )\n\u001b[0;32m--> 284\u001b[0m \u001b[38;5;28;01mreturn\u001b[39;00m \u001b[43mio_open\u001b[49m\u001b[43m(\u001b[49m\u001b[43mfile\u001b[49m\u001b[43m,\u001b[49m\u001b[43m \u001b[49m\u001b[38;5;241;43m*\u001b[39;49m\u001b[43margs\u001b[49m\u001b[43m,\u001b[49m\u001b[43m \u001b[49m\u001b[38;5;241;43m*\u001b[39;49m\u001b[38;5;241;43m*\u001b[39;49m\u001b[43mkwargs\u001b[49m\u001b[43m)\u001b[49m\n",
      "\u001b[0;31mFileNotFoundError\u001b[0m: [Errno 2] No such file or directory: './full_15_39_atoms_conf_chembl.inchi'"
     ]
    }
   ],
   "source": [
    "import py3Dmol\n",
    "\n",
    "from ml_conformer_generator import MLConformerGenerator\n",
    "from cheminformatics import evaluate_samples\n",
    "from rdkit import Chem\n",
    "from rdkit.Chem import rdDistGeom\n",
    "\n",
    "from rdkit.Chem import Draw\n",
    "\n",
    "def exact_match(mol, source):\n",
    "    sample_inchi = Chem.MolToInchi(mol)\n",
    "\n",
    "    with open(source, \"r\") as f:\n",
    "        lines = f.readlines()\n",
    "        for line in lines:\n",
    "            cid, inchi = line.replace(\"\\n\", \"\").split('\\t')\n",
    "            if sample_inchi == inchi:\n",
    "                return True\n",
    "\n",
    "    return False\n",
    "    \n",
    "device = \"cpu\"\n",
    "generator = MLConformerGenerator(device=device)\n",
    "source_path = \"./full_15_39_atoms_conf_chembl.inchi\"\n",
    "\n",
    "ref_mol = Chem.MolFromMolFile(\"test_1.mol\")\n",
    "# rdDistGeom.EmbedMolecule(ref_mol, forceTol=0.001, randomSeed=12)\n",
    "\n",
    "samples = generator.generate_conformers(reference_conformer=ref_mol, n_samples=4)\n",
    "print(samples)\n",
    "\n",
    "for sample in samples:\n",
    "    smi = Chem.MolFromSmiles(Chem.MolToSmiles(sample))\n",
    "    img = Draw.MolToImage(smi, size=(200, 200))\n",
    "    display(img)\n",
    "    \n",
    "_, std_samples = evaluate_samples(ref_mol, samples)\n",
    "\n",
    "view = py3Dmol.view(width=400, height=300, viewergrid=(2,2))\n",
    "\n",
    "for sample in std_samples:\n",
    "    print(f\"Found in training Dataset - { not exact_match(Chem.MolFromMolBlock(sample['mol_block']), source_path)}\")\n",
    "    view = py3Dmol.view(width=400, height=300)\n",
    "    view.addModel(sample['mol_block'], 'mol')\n",
    "    view.addModel(Chem.MolToMolBlock(ref_mol), 'mol')\n",
    "    view.setStyle({'stick': {}})\n",
    "    view.zoomTo()\n",
    "    view.show()\n",
    "    print(f\"Shape Tanimoto - {sample['shape_tanimoto']}\")"
   ]
  },
  {
   "cell_type": "code",
   "execution_count": null,
   "id": "d15d61f0-a8dd-4705-9571-cdffee169ce5",
   "metadata": {},
   "outputs": [],
   "source": []
  },
  {
   "cell_type": "code",
   "execution_count": null,
   "id": "58c359d0-9e42-49d6-bfb1-53537a4ef122",
   "metadata": {},
   "outputs": [],
   "source": []
  }
 ],
 "metadata": {
  "kernelspec": {
   "display_name": "Python 3 (ipykernel)",
   "language": "python",
   "name": "python3"
  },
  "language_info": {
   "codemirror_mode": {
    "name": "ipython",
    "version": 3
   },
   "file_extension": ".py",
   "mimetype": "text/x-python",
   "name": "python",
   "nbconvert_exporter": "python",
   "pygments_lexer": "ipython3",
   "version": "3.10.10"
  }
 },
 "nbformat": 4,
 "nbformat_minor": 5
}
