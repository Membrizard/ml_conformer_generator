{
 "cells": [
  {
   "cell_type": "code",
   "execution_count": 4,
   "id": "269b5b82-bc66-401a-9207-e40dd8880b71",
   "metadata": {},
   "outputs": [
    {
     "name": "stderr",
     "output_type": "stream",
     "text": [
      "[13:36:40] Molecule does not have explicit Hs. Consider calling AddHs()\n",
      "1000it [01:49,  9.16it/s]\n",
      "[13:38:29] Initializing MetalDisconnector\n",
      "[13:38:29] Running MetalDisconnector\n",
      "[13:38:29] Initializing Normalizer\n",
      "[13:38:29] Running Normalizer\n",
      "[13:38:29] Running LargestFragmentChooser\n",
      "[13:38:29] Running Normalizer\n",
      "[13:38:29] Running Uncharger\n",
      "[13:38:29] Initializing MetalDisconnector\n",
      "[13:38:29] Running MetalDisconnector\n",
      "[13:38:29] Initializing Normalizer\n",
      "[13:38:29] Running Normalizer\n",
      "[13:38:29] Running LargestFragmentChooser\n",
      "[13:38:29] Fragment: [C]1Oc2[c][c]c([C]Sc3nc4[c][c][c][c]c4s3)[c]c2O1\n",
      "[13:38:29] New largest fragment: [C]1Oc2[c][c]c([C]Sc3nc4[c][c][c][c]c4s3)[c]c2O1 (20)\n",
      "[13:38:29] Fragment: [F]\n",
      "[13:38:29] Running Normalizer\n",
      "[13:38:29] Running Uncharger\n"
     ]
    },
    {
     "name": "stdout",
     "output_type": "stream",
     "text": [
      "[<rdkit.Chem.rdchem.Mol object at 0x1530637d0>, <rdkit.Chem.rdchem.Mol object at 0x153063a00>]\n"
     ]
    },
    {
     "data": {
      "image/png": "[encoded data removed]",
      "text/plain": [
       "<PIL.PngImagePlugin.PngImageFile image mode=RGB size=200x200>"
      ]
     },
     "metadata": {},
     "output_type": "display_data"
    },
    {
     "data": {
      "image/png": "[encoded data removed]",
      "text/plain": [
       "<PIL.PngImagePlugin.PngImageFile image mode=RGB size=200x200>"
      ]
     },
     "metadata": {},
     "output_type": "display_data"
    },
    {
     "name": "stdout",
     "output_type": "stream",
     "text": [
      "<rdkit.Chem.rdchem.Mol object at 0x1530637d0>\n",
      "<rdkit.Chem.rdchem.Mol object at 0x153063a00>\n",
      "[{'mol_block': '\\n     RDKit          3D\\n\\n 22 22  0  0  0  0  0  0  0  0999 V2000\\n   -6.2433   -0.7933    2.4338 C   0  0  0  0  0  1  0  0  0  0  0  0\\n   -5.2420   -1.8931    2.8690 C   0  0  0  0  0  3  0  0  0  0  0  0\\n   -5.8527   -3.2653    3.2464 C   0  0  0  0  0  1  0  0  0  0  0  0\\n   -3.9044   -1.7991    2.7452 N   0  0  0  0  0  2  0  0  0  0  0  0\\n   -3.4838   -1.5302    1.4994 C   0  0  0  0  0  0  0  0  0  0  0  0\\n   -4.0981   -1.7480    0.4557 O   0  0  0  0  0  0  0  0  0  0  0  0\\n   -2.0973   -0.9905    1.3588 C   0  0  0  0  0  0  0  0  0  0  0  0\\n   -1.2090   -0.9413    2.4335 C   0  0  0  0  0  3  0  0  0  0  0  0\\n    0.0763   -0.4357    2.2469 C   0  0  0  0  0  3  0  0  0  0  0  0\\n    0.4778    0.0237    0.9917 C   0  0  0  0  0  3  0  0  0  0  0  0\\n   -0.3987   -0.0193   -0.0962 C   0  0  0  0  0  0  0  0  0  0  0  0\\n    0.0001    0.4913   -1.4482 C   0  0  0  0  0  0  0  0  0  0  0  0\\n   -0.8322    0.4321   -2.3503 O   0  0  0  0  0  0  0  0  0  0  0  0\\n    1.2497    0.9282   -1.5211 N   0  0  0  0  0  2  0  0  0  0  0  0\\n    1.6475    1.8573   -2.5657 C   0  0  0  0  0  2  0  0  0  0  0  0\\n    2.7191    2.9187   -2.4895 C   0  0  0  0  0  2  0  0  0  0  0  0\\n    4.0660    2.5449   -1.9178 C   0  0  0  0  0  2  0  0  0  0  0  0\\n    4.8693    1.3727   -2.2372 N   0  0  0  0  0  2  0  0  0  0  0  0\\n    6.1390    1.3005   -1.9324 C   0  0  0  0  0  0  0  0  0  0  0  0\\n    6.9118    0.1100   -2.5826 C   0  0  0  0  0  1  0  0  0  0  0  0\\n    6.8908    1.9673   -1.2361 O   0  0  0  0  0  0  0  0  0  0  0  0\\n   -1.6861   -0.5311    0.0966 C   0  0  0  0  0  3  0  0  0  0  0  0\\n  2  1  1  0\\n  3  2  1  0\\n  4  2  1  0\\n  5  4  1  0\\n  6  5  2  0\\n  7  5  1  0\\n  8  7  2  0\\n  9  8  1  0\\n 10  9  2  0\\n 11 10  1  0\\n 12 11  1  0\\n 13 12  2  0\\n 14 12  1  0\\n 15 14  1  0\\n 16 15  1  0\\n 17 16  1  0\\n 18 17  1  0\\n 19 18  1  0\\n 20 19  1  0\\n 21 19  2  0\\n 22  7  1  0\\n 22 11  2  0\\nM  RAD  8   1   2   2   2   3   2   4   2   8   2   9   2  10   2  14   2\\nM  RAD  6  15   3  16   3  17   3  18   2  20   2  22   2\\nM  END\\n', 'shape_tanimoto': tensor(0.4916), 'chemical_tanimoto': 0.0547945205479452}, {'mol_block': '\\n     RDKit          3D\\n\\n 20 23  0  0  0  0  0  0  0  0999 V2000\\n    3.5476    3.8297    3.5958 C   0  0  0  0  0  3  0  0  0  0  0  0\\n    4.3538    2.8919    4.2229 C   0  0  0  0  0  3  0  0  0  0  0  0\\n    4.1710    1.5201    3.9845 C   0  0  0  0  0  3  0  0  0  0  0  0\\n    3.1531    1.1209    3.0946 C   0  0  0  0  0  0  0  0  0  0  0  0\\n    2.6449   -0.4850    2.5155 S   0  0  0  0  0  0  0  0  0  0  0  0\\n    1.4098    0.1972    1.5186 C   0  0  0  0  0  0  0  0  0  0  0  0\\n   -0.0187   -0.5072    0.7764 S   0  0  0  0  0  0  0  0  0  0  0  0\\n   -0.3115   -1.8331   -0.2313 C   0  0  0  0  0  2  0  0  0  0  0  0\\n   -1.3498   -2.0196   -1.2566 C   0  0  0  0  0  0  0  0  0  0  0  0\\n   -2.6887   -2.1910   -0.8252 C   0  0  0  0  0  3  0  0  0  0  0  0\\n   -3.8062   -1.9621   -1.6623 C   0  0  0  0  0  3  0  0  0  0  0  0\\n   -3.5711   -1.5450   -2.9605 C   0  0  0  0  0  0  0  0  0  0  0  0\\n   -4.5186   -1.2264   -3.9373 O   0  0  0  0  0  0  0  0  0  0  0  0\\n   -3.6056   -0.9081   -4.8545 C   0  0  0  0  0  2  0  0  0  0  0  0\\n   -2.2685   -0.9227   -4.7602 O   0  0  0  0  0  0  0  0  0  0  0  0\\n   -2.2531   -1.3689   -3.4299 C   0  0  0  0  0  0  0  0  0  0  0  0\\n   -1.1449   -1.5835   -2.5918 C   0  0  0  0  0  3  0  0  0  0  0  0\\n    1.3743    1.5177    1.6265 N   0  0  0  0  0  0  0  0  0  0  0  0\\n    2.3410    2.0518    2.4573 C   0  0  0  0  0  0  0  0  0  0  0  0\\n    2.5413    3.4233    2.7176 C   0  0  0  0  0  3  0  0  0  0  0  0\\n  2  1  2  0\\n  3  2  1  0\\n  4  3  2  0\\n  5  4  1  0\\n  6  5  1  0\\n  7  6  1  0\\n  8  7  1  0\\n  9  8  1  0\\n 10  9  2  0\\n 11 10  1  0\\n 12 11  2  0\\n 13 12  1  0\\n 14 13  1  0\\n 15 14  1  0\\n 16 12  1  0\\n 16 15  1  0\\n 17  9  1  0\\n 17 16  2  0\\n 18  6  2  0\\n 19  4  1  0\\n 19 18  1  0\\n 20  1  1  0\\n 20 19  2  0\\nM  RAD  8   1   2   2   2   3   2   8   3  10   2  11   2  14   3  17   2\\nM  RAD  1  20   2\\nM  END\\n', 'shape_tanimoto': tensor(0.5011), 'chemical_tanimoto': 0.0375}]\n"
     ]
    }
   ],
   "source": [
    "from ml_conformer_generator import MLConformerGenerator\n",
    "from cheminformatics import evaluate_samples\n",
    "from rdkit import Chem\n",
    "from rdkit.Chem import rdDistGeom\n",
    "\n",
    "from rdkit.Chem import Draw\n",
    "\n",
    "\n",
    "device = \"cpu\"\n",
    "generator = MLConformerGenerator(device=device)\n",
    "\n",
    "\n",
    "ref_mol = Chem.MolFromSmiles(\"CCc1noc(C)c1C(=O)NNC(=O)COc1ccccc1C\")\n",
    "rdDistGeom.EmbedMolecule(ref_mol, forceTol=0.001, randomSeed=12)\n",
    "\n",
    "samples = generator.generate_conformers(reference_conformer=ref_mol, n_samples=2)\n",
    "print(samples)\n",
    "\n",
    "for sample in samples:\n",
    "    smi = Chem.MolFromSmiles(Chem.MolToSmiles(sample))\n",
    "    img = Draw.MolToImage(smi, size=(200, 200))\n",
    "    display(img)\n",
    "    \n",
    "_, std_samples = evaluate_samples(ref_mol, samples)\n",
    "\n",
    "print(std_samples)\n"
   ]
  },
  {
   "cell_type": "code",
   "execution_count": null,
   "id": "58c359d0-9e42-49d6-bfb1-53537a4ef122",
   "metadata": {},
   "outputs": [],
   "source": []
  }
 ],
 "metadata": {
  "kernelspec": {
   "display_name": "Python 3 (ipykernel)",
   "language": "python",
   "name": "python3"
  },
  "language_info": {
   "codemirror_mode": {
    "name": "ipython",
    "version": 3
   },
   "file_extension": ".py",
   "mimetype": "text/x-python",
   "name": "python",
   "nbconvert_exporter": "python",
   "pygments_lexer": "ipython3",
   "version": "3.10.10"
  }
 },
 "nbformat": 4,
 "nbformat_minor": 5
}
