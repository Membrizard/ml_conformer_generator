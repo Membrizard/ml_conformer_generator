{
 "cells": [
  {
   "cell_type": "code",
   "execution_count": null,
   "id": "269b5b82-bc66-401a-9207-e40dd8880b71",
   "metadata": {},
   "outputs": [
    {
     "name": "stderr",
     "output_type": "stream",
     "text": [
      "815it [06:42,  1.88it/s]"
     ]
    }
   ],
   "source": [
    "import py3Dmol\n",
    "\n",
    "from ml_conformer_generator import MLConformerGenerator\n",
    "from cheminformatics import evaluate_samples\n",
    "from rdkit import Chem\n",
    "from rdkit.Chem import rdDistGeom\n",
    "\n",
    "from rdkit.Chem import Draw\n",
    "\n",
    "def exact_match(mol, source):\n",
    "    sample_inchi = Chem.MolToInchi(mol)\n",
    "\n",
    "    with open(source, \"r\") as f:\n",
    "        lines = f.readlines()\n",
    "        for line in lines:\n",
    "            cid, inchi = line.replace(\"\\n\", \"\").split('\\t')\n",
    "            if sample_inchi == inchi:\n",
    "                return True\n",
    "\n",
    "    return False\n",
    "    \n",
    "device = \"cpu\"\n",
    "generator = MLConformerGenerator(device=device)\n",
    "source_path = \"./full_15_39_atoms_conf_chembl.inchi\"\n",
    "\n",
    "ref_mol = Chem.MolFromMolFile(\"test_1.mol\")\n",
    "# rdDistGeom.EmbedMolecule(ref_mol, forceTol=0.001, randomSeed=12)\n",
    "\n",
    "samples = generator.generate_conformers(reference_conformer=ref_mol, n_samples=4)\n",
    "print(samples)\n",
    "\n",
    "for sample in samples:\n",
    "    smi = Chem.MolFromSmiles(Chem.MolToSmiles(sample))\n",
    "    img = Draw.MolToImage(smi, size=(200, 200))\n",
    "    display(img)\n",
    "    \n",
    "_, std_samples = evaluate_samples(ref_mol, samples)\n",
    "\n",
    "view = py3Dmol.view(width=400, height=300, viewergrid=(2,2))\n",
    "\n",
    "for sample in std_samples:\n",
    "    print(f\"Found in training Dataset - { not exact_match(Chem.MolFromMolBlock(sample['mol_block']), source_path)}\")\n",
    "    view = py3Dmol.view(width=400, height=300)\n",
    "    view.addModel(sample['mol_block'], 'mol')\n",
    "    view.addModel(Chem.MolToMolBlock(ref_mol), 'mol')\n",
    "    view.setStyle({'stick': {}})\n",
    "    view.zoomTo()\n",
    "    view.show()\n",
    "    print(f\"Shape Tanimoto - {sample['shape_tanimoto']}\")"
   ]
  },
  {
   "cell_type": "code",
   "execution_count": null,
   "id": "d15d61f0-a8dd-4705-9571-cdffee169ce5",
   "metadata": {},
   "outputs": [],
   "source": []
  },
  {
   "cell_type": "code",
   "execution_count": null,
   "id": "58c359d0-9e42-49d6-bfb1-53537a4ef122",
   "metadata": {},
   "outputs": [],
   "source": []
  }
 ],
 "metadata": {
  "kernelspec": {
   "display_name": "Python 3 (ipykernel)",
   "language": "python",
   "name": "python3"
  },
  "language_info": {
   "codemirror_mode": {
    "name": "ipython",
    "version": 3
   },
   "file_extension": ".py",
   "mimetype": "text/x-python",
   "name": "python",
   "nbconvert_exporter": "python",
   "pygments_lexer": "ipython3",
   "version": "3.10.10"
  }
 },
 "nbformat": 4,
 "nbformat_minor": 5
}
