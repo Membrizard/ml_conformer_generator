{
 "cells": [
  {
   "cell_type": "code",
   "execution_count": 5,
   "id": "269b5b82-bc66-401a-9207-e40dd8880b71",
   "metadata": {},
   "outputs": [
    {
     "name": "stderr",
     "output_type": "stream",
     "text": [
      "[13:52:10] Molecule does not have explicit Hs. Consider calling AddHs()\n",
      "1000it [01:59,  8.37it/s]\n"
     ]
    },
    {
     "name": "stdout",
     "output_type": "stream",
     "text": [
      "[<rdkit.Chem.rdchem.Mol object at 0x1534b0190>, <rdkit.Chem.rdchem.Mol object at 0x1534b00b0>]\n"
     ]
    },
    {
     "name": "stderr",
     "output_type": "stream",
     "text": [
      "[13:54:10] Initializing MetalDisconnector\n",
      "[13:54:10] Running MetalDisconnector\n",
      "[13:54:10] Initializing Normalizer\n",
      "[13:54:10] Running Normalizer\n",
      "[13:54:10] Running LargestFragmentChooser\n",
      "[13:54:10] Running Normalizer\n",
      "[13:54:10] Running Uncharger\n",
      "[13:54:10] Initializing MetalDisconnector\n",
      "[13:54:10] Running MetalDisconnector\n",
      "[13:54:10] Initializing Normalizer\n",
      "[13:54:10] Running Normalizer\n",
      "[13:54:10] Running LargestFragmentChooser\n",
      "[13:54:10] Running Normalizer\n",
      "[13:54:10] Running Uncharger\n"
     ]
    },
    {
     "data": {
      "image/png": "[encoded data removed]",
      "text/plain": [
       "<PIL.PngImagePlugin.PngImageFile image mode=RGB size=200x200>"
      ]
     },
     "metadata": {},
     "output_type": "display_data"
    },
    {
     "data": {
      "image/png": "[encoded data removed]",
      "text/plain": [
       "<PIL.PngImagePlugin.PngImageFile image mode=RGB size=200x200>"
      ]
     },
     "metadata": {},
     "output_type": "display_data"
    },
    {
     "name": "stdout",
     "output_type": "stream",
     "text": [
      "<rdkit.Chem.rdchem.Mol object at 0x1534b0190>\n",
      "<rdkit.Chem.rdchem.Mol object at 0x1534b00b0>\n",
      "[{'mol_block': '\\n     RDKit          3D\\n\\n 25 29  0  0  0  0  0  0  0  0999 V2000\\n    0.2449    1.1597    2.0351 O   0  0  0  0  0  0  0  0  0  0  0  0\\n   -0.0835    1.4695    0.8933 C   0  0  0  0  0  0  0  0  0  0  0  0\\n   -0.7334    0.4735    0.0668 C   0  0  0  0  0  2  0  0  0  0  0  0\\n    0.0946   -0.0786   -0.9333 C   0  0  0  0  0  3  0  0  0  0  0  0\\n    1.2400   -0.7678   -0.4036 C   0  0  0  0  0  2  0  0  0  0  0  0\\n    0.3091   -1.3648   -1.2932 N   0  0  0  0  0  0  0  0  0  0  0  0\\n   -0.5187   -2.3485   -0.9381 C   0  0  0  0  0  0  0  0  0  0  0  0\\n   -0.1259   -3.3913   -0.0432 C   0  0  0  0  0  2  0  0  0  0  0  0\\n   -1.2888   -4.2083    0.2388 C   0  0  0  0  0  0  0  0  0  0  0  0\\n   -2.0280   -3.7125    1.4140 C   0  0  0  0  0  2  0  0  0  0  0  0\\n   -2.3747   -4.3672    2.7067 C   0  0  0  0  0  2  0  0  0  0  0  0\\n   -1.2998   -5.4085    2.9891 C   0  0  0  0  0  2  0  0  0  0  0  0\\n   -0.7037   -6.2671    1.8624 C   0  0  0  0  0  2  0  0  0  0  0  0\\n   -0.8931   -5.5970    0.4909 C   0  0  0  0  0  2  0  0  0  0  0  0\\n   -2.0867   -3.7630   -0.8656 C   0  0  0  0  0  2  0  0  0  0  0  0\\n   -1.7529   -2.5437   -1.2974 N   0  0  0  0  0  0  0  0  0  0  0  0\\n    0.4329    2.6298    0.1802 C   0  0  0  0  0  0  0  0  0  0  0  0\\n    0.6858    2.7079   -1.1227 N   0  0  0  0  0  0  0  0  0  0  0  0\\n    1.2002    3.9710   -1.2841 C   0  0  0  0  0  0  0  0  0  0  0  0\\n    1.6401    4.6519   -2.4265 C   0  0  0  0  0  3  0  0  0  0  0  0\\n    2.1173    5.9566   -2.2571 C   0  0  0  0  0  3  0  0  0  0  0  0\\n    2.1553    6.5600   -0.9973 C   0  0  0  0  0  3  0  0  0  0  0  0\\n    1.7237    5.8975    0.1568 C   0  0  0  0  0  3  0  0  0  0  0  0\\n    1.2592    4.6050   -0.0551 C   0  0  0  0  0  0  0  0  0  0  0  0\\n    0.7861    3.7358    0.8831 O   0  0  0  0  0  0  0  0  0  0  0  0\\n  2  1  2  0\\n  3  2  1  0\\n  4  3  1  0\\n  5  4  1  0\\n  6  4  1  0\\n  6  5  1  0\\n  7  6  1  0\\n  8  7  1  0\\n  9  8  1  0\\n 10  9  1  0\\n 11 10  1  0\\n 12 11  1  0\\n 13 12  1  0\\n 14  9  1  0\\n 14 13  1  0\\n 15  9  1  0\\n 16  7  2  0\\n 16 15  1  0\\n 17  2  1  0\\n 18 17  2  0\\n 19 18  1  0\\n 20 19  2  0\\n 21 20  1  0\\n 22 21  2  0\\n 23 22  1  0\\n 24 19  1  0\\n 24 23  2  0\\n 25 17  1  0\\n 25 24  1  0\\nM  RAD  8   3   3   4   2   5   3   8   3  10   3  11   3  12   3  13   3\\nM  RAD  6  14   3  15   3  20   2  21   2  22   2  23   2\\nM  END\\n', 'shape_tanimoto': tensor(0.5956), 'chemical_tanimoto': 0.09302325581395349}, {'mol_block': '\\n     RDKit          3D\\n\\n 23 24  0  0  0  0  0  0  0  0999 V2000\\n   -4.5122   -1.2529   -5.2547 C   0  0  0  0  0  1  0  0  0  0  0  0\\n   -3.1836   -1.1425   -4.3429 C   0  0  0  0  0  0  0  0  0  0  0  0\\n   -2.3525   -0.0039   -5.0196 C   0  0  0  0  0  1  0  0  0  0  0  0\\n   -2.5293   -2.5639   -4.4544 C   0  0  0  0  0  1  0  0  0  0  0  0\\n   -3.7076   -0.8248   -3.0252 N   0  0  0  0  0  2  0  0  0  0  0  0\\n   -2.8999   -0.6030   -1.9560 C   0  0  0  0  0  3  0  0  0  0  0  0\\n   -1.4768   -0.6023   -1.9459 C   0  0  0  0  0  2  0  0  0  0  0  0\\n   -0.6245   -0.4951   -0.8109 C   0  0  0  0  0  3  0  0  0  0  0  0\\n    0.7098   -0.5102   -0.9635 N   0  0  0  0  0  2  0  0  0  0  0  0\\n    1.6019   -0.8261    0.1829 N   0  0  0  0  0  2  0  0  0  0  0  0\\n    1.8554    0.1138    1.0882 C   0  0  0  0  0  0  0  0  0  0  0  0\\n    1.2390    1.1396    1.3710 O   0  0  0  0  0  0  0  0  0  0  0  0\\n    3.0511   -0.1023    1.9107 C   0  0  0  0  0  2  0  0  0  0  0  0\\n    3.7865    0.5673    2.9327 C   0  0  0  0  0  0  0  0  0  0  0  0\\n    3.3726    0.4520    4.2593 C   0  0  0  0  0  3  0  0  0  0  0  0\\n    3.8158    1.3657    5.2153 C   0  0  0  0  0  3  0  0  0  0  0  0\\n    4.6442    2.4210    4.8415 C   0  0  0  0  0  3  0  0  0  0  0  0\\n    5.0499    2.5480    3.5162 C   0  0  0  0  0  3  0  0  0  0  0  0\\n    4.6133    1.6292    2.5636 C   0  0  0  0  0  3  0  0  0  0  0  0\\n   -1.5044   -0.3154    0.3003 C   0  0  0  0  0  3  0  0  0  0  0  0\\n   -2.6553   -0.2388    0.5669 N   0  0  0  0  0  0  0  0  0  0  0  0\\n   -3.5307   -0.3894   -0.5427 C   0  0  0  0  0  0  0  0  0  0  0  0\\n   -4.7624   -0.3659   -0.4328 O   0  0  0  0  0  0  0  0  0  0  0  0\\n  2  1  1  0\\n  3  2  1  0\\n  4  2  1  0\\n  5  2  1  0\\n  6  5  1  0\\n  7  6  1  0\\n  8  7  1  0\\n  9  8  1  0\\n 10  9  1  0\\n 11 10  1  0\\n 12 11  2  0\\n 13 11  1  0\\n 14 13  1  0\\n 15 14  2  0\\n 16 15  1  0\\n 17 16  2  0\\n 18 17  1  0\\n 19 14  1  0\\n 19 18  2  0\\n 20  8  1  0\\n 21 20  2  0\\n 22  6  1  0\\n 22 21  1  0\\n 23 22  2  0\\nM  RAD  8   1   2   3   2   4   2   5   2   6   2   7   3   8   2   9   2\\nM  RAD  8  10   2  13   3  15   2  16   2  17   2  18   2  19   2  20   2\\nM  END\\n', 'shape_tanimoto': tensor(0.6032), 'chemical_tanimoto': 0.06097560975609756}]\n"
     ]
    }
   ],
   "source": [
    "from ml_conformer_generator import MLConformerGenerator\n",
    "from cheminformatics import evaluate_samples\n",
    "from rdkit import Chem\n",
    "from rdkit.Chem import rdDistGeom\n",
    "\n",
    "from rdkit.Chem import Draw\n",
    "\n",
    "\n",
    "device = \"cpu\"\n",
    "generator = MLConformerGenerator(device=device)\n",
    "\n",
    "\n",
    "ref_mol = Chem.MolFromSmiles(\"CCc1noc(C)c1C(=O)NNC(=O)COc1ccccc1C\")\n",
    "rdDistGeom.EmbedMolecule(ref_mol, forceTol=0.001, randomSeed=12)\n",
    "\n",
    "samples = generator.generate_conformers(reference_conformer=ref_mol, n_samples=2)\n",
    "print(samples)\n",
    "\n",
    "for sample in samples:\n",
    "    smi = Chem.MolFromSmiles(Chem.MolToSmiles(sample))\n",
    "    img = Draw.MolToImage(smi, size=(200, 200))\n",
    "    display(img)\n",
    "    \n",
    "_, std_samples = evaluate_samples(ref_mol, samples)\n",
    "\n",
    "print(std_samples)\n"
   ]
  },
  {
   "cell_type": "code",
   "execution_count": null,
   "id": "58c359d0-9e42-49d6-bfb1-53537a4ef122",
   "metadata": {},
   "outputs": [],
   "source": []
  }
 ],
 "metadata": {
  "kernelspec": {
   "display_name": "Python 3 (ipykernel)",
   "language": "python",
   "name": "python3"
  },
  "language_info": {
   "codemirror_mode": {
    "name": "ipython",
    "version": 3
   },
   "file_extension": ".py",
   "mimetype": "text/x-python",
   "name": "python",
   "nbconvert_exporter": "python",
   "pygments_lexer": "ipython3",
   "version": "3.10.10"
  }
 },
 "nbformat": 4,
 "nbformat_minor": 5
}
