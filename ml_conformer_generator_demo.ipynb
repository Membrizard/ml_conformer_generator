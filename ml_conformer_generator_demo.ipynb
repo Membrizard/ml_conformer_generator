{
 "cells": [
  {
   "cell_type": "code",
   "execution_count": 3,
   "id": "269b5b82-bc66-401a-9207-e40dd8880b71",
   "metadata": {},
   "outputs": [
    {
     "name": "stderr",
     "output_type": "stream",
     "text": [
      "1000it [10:30,  1.59it/s]\n"
     ]
    },
    {
     "name": "stdout",
     "output_type": "stream",
     "text": [
      "[<rdkit.Chem.rdchem.Mol object at 0x146841540>, <rdkit.Chem.rdchem.Mol object at 0x146843b50>]\n"
     ]
    },
    {
     "name": "stderr",
     "output_type": "stream",
     "text": [
      "[15:19:15] Can't kekulize mol.  Unkekulized atoms: 13 14 15 16 18 31 32\n",
      "[15:19:15] Can't kekulize mol.  Unkekulized atoms: 9 10 26\n",
      "[15:19:15] Initializing MetalDisconnector\n",
      "[15:19:15] Running MetalDisconnector\n",
      "[15:19:15] Initializing Normalizer\n",
      "[15:19:15] Running Normalizer\n",
      "[15:19:15] Running LargestFragmentChooser\n",
      "[15:19:15] Running Normalizer\n",
      "[15:19:15] Running Uncharger\n",
      "[15:19:15] Initializing MetalDisconnector\n",
      "[15:19:15] Running MetalDisconnector\n",
      "[15:19:15] Initializing Normalizer\n",
      "[15:19:15] Running Normalizer\n",
      "[15:19:15] Running LargestFragmentChooser\n",
      "[15:19:15] Running Normalizer\n",
      "[15:19:15] Running Uncharger\n"
     ]
    },
    {
     "data": {
      "image/png": "[encoded data removed]",
      "text/plain": [
       "<PIL.PngImagePlugin.PngImageFile image mode=RGB size=200x200>"
      ]
     },
     "metadata": {},
     "output_type": "display_data"
    },
    {
     "data": {
      "image/png": "[encoded data removed]",
      "text/plain": [
       "<PIL.PngImagePlugin.PngImageFile image mode=RGB size=200x200>"
      ]
     },
     "metadata": {},
     "output_type": "display_data"
    },
    {
     "data": {
      "application/3dmoljs_load.v0": "<div id=\"3dmolviewer_1739459956000583\"  style=\"position: relative; width: 400px; height: 300px;\">\n        <p id=\"3dmolwarning_1739459956000583\" style=\"background-color:#ffcccc;color:black\">3Dmol.js failed to load for some reason.  Please check your browser console for error messages.<br></p>\n        </div>\n<script>\n\nvar loadScriptAsync = function(uri){\n  return new Promise((resolve, reject) => {\n    //this is to ignore the existence of requirejs amd\n    var savedexports, savedmodule;\n    if (typeof exports !== 'undefined') savedexports = exports;\n    else exports = {}\n    if (typeof module !== 'undefined') savedmodule = module;\n    else module = {}\n\n    var tag = document.createElement('script');\n    tag.src = uri;\n    tag.async = true;\n    tag.onload = () => {\n        exports = savedexports;\n        module = savedmodule;\n        resolve();\n    };\n  var firstScriptTag = document.getElementsByTagName('script')[0];\n  firstScriptTag.parentNode.insertBefore(tag, firstScriptTag);\n});\n};\n\nif(typeof $3Dmolpromise === 'undefined') {\n$3Dmolpromise = null;\n  $3Dmolpromise = loadScriptAsync('https://cdnjs.cloudflare.com/ajax/libs/3Dmol/2.4.0/3Dmol-min.js');\n}\n\nvar viewer_1739459956000583 = null;\nvar warn = document.getElementById(\"3dmolwarning_1739459956000583\");\nif(warn) {\n    warn.parentNode.removeChild(warn);\n}\n$3Dmolpromise.then(function() {\nviewer_1739459956000583 = $3Dmol.createViewer(document.getElementById(\"3dmolviewer_1739459956000583\"),{backgroundColor:\"white\"});\nviewer_1739459956000583.zoomTo();\n\tviewer_1739459956000583.addModel(\"\\n     RDKit          3D\\n\\n 31 34  0  0  0  0  0  0  0  0999 V2000\\n    6.6613    4.1501    0.0282 C   0  0  0  0  0  1  0  0  0  0  0  0\\n    6.4325    2.7345    0.3969 C   0  0  0  0  0  2  0  0  0  0  0  0\\n    6.0735    1.3387    0.1987 C   0  0  0  0  0  2  0  0  0  0  0  0\\n    5.9929   -0.0049    0.5037 C   0  0  0  0  0  0  0  0  0  0  0  0\\n    5.5139   -0.9826   -0.2849 C   0  0  0  0  0  0  0  0  0  0  0  0\\n    4.7549   -0.7730   -1.4346 C   0  0  0  0  0  2  0  0  0  0  0  0\\n    3.5176   -1.1295   -1.5836 O   0  0  0  0  0  0  0  0  0  0  0  0\\n    2.7690   -0.0766   -1.7744 C   0  0  0  0  0  2  0  0  0  0  0  0\\n    1.5595   -0.1071   -2.4304 C   0  0  0  0  0  3  0  0  0  0  0  0\\n    0.5515   -0.9547   -1.8825 C   0  0  0  0  0  2  0  0  0  0  0  0\\n    0.3383    0.4423   -2.0812 C   0  0  0  0  0  3  0  0  0  0  0  0\\n   -0.0871    1.1448   -0.9730 C   0  0  0  0  0  2  0  0  0  0  0  0\\n   -1.3437    0.7973   -0.3609 N   0  0  0  0  0  0  0  0  0  0  0  0\\n   -2.2809    0.1503   -1.1264 C   0  0  0  0  0  3  0  0  0  0  0  0\\n   -3.2037   -0.2793   -0.2251 C   0  0  0  0  0  0  0  0  0  0  0  0\\n   -4.2522   -1.0699   -0.6071 N   0  0  0  0  0  2  0  0  0  0  0  0\\n   -5.4472   -0.6695   -0.1316 C   0  0  0  0  0  0  0  0  0  0  0  0\\n   -6.1254   -1.4298    0.8263 C   0  0  0  0  0  3  0  0  0  0  0  0\\n   -7.3994   -1.0711    1.2617 C   0  0  0  0  0  3  0  0  0  0  0  0\\n   -8.0370    0.0439    0.7209 C   0  0  0  0  0  0  0  0  0  0  0  0\\n   -9.2850    0.3084    1.2220 O   0  0  0  0  0  0  0  0  0  0  0  0\\n  -10.0212    1.3155    0.5599 C   0  0  0  0  0  1  0  0  0  0  0  0\\n   -7.3871    0.8054   -0.2464 C   0  0  0  0  0  3  0  0  0  0  0  0\\n   -6.1110    0.4426   -0.6707 C   0  0  0  0  0  3  0  0  0  0  0  0\\n   -2.8396    0.1270    1.0362 N   0  0  0  0  0  0  0  0  0  0  0  0\\n   -1.6686    0.7703    0.9396 N   0  0  0  0  0  0  0  0  0  0  0  0\\n    5.5907   -2.1387    0.5037 C   0  0  0  0  0  0  0  0  0  0  0  0\\n    5.0819   -3.5080    0.0513 C   0  0  0  0  0  1  0  0  0  0  0  0\\n    6.0534   -1.8941    1.7275 N   0  0  0  0  0  0  0  0  0  0  0  0\\n    6.2646   -0.5838    1.6976 N   0  0  0  0  0  0  0  0  0  0  0  0\\n    6.6532    0.1904    2.8734 C   0  0  0  0  0  1  0  0  0  0  0  0\\n  2  1  1  0\\n  3  2  1  0\\n  4  3  1  0\\n  5  4  2  0\\n  6  5  1  0\\n  7  6  1  0\\n  8  7  1  0\\n  9  8  1  0\\n 10  9  1  0\\n 11  9  1  0\\n 11 10  1  0\\n 12 11  1  0\\n 13 12  1  0\\n 14 13  1  0\\n 15 14  2  0\\n 16 15  1  0\\n 17 16  1  0\\n 18 17  2  0\\n 19 18  1  0\\n 20 19  2  0\\n 21 20  1  0\\n 22 21  1  0\\n 23 20  1  0\\n 24 17  1  0\\n 24 23  2  0\\n 25 15  1  0\\n 26 13  1  0\\n 26 25  2  0\\n 27  5  1  0\\n 28 27  1  0\\n 29 27  2  0\\n 30  4  1  0\\n 30 29  1  0\\n 31 30  1  0\\nM  RAD  8   1   2   2   3   3   3   6   3   8   3   9   2  10   3  11   2\\nM  RAD  8  12   3  14   2  16   2  18   2  19   2  22   2  23   2  24   2\\nM  RAD  2  28   2  31   2\\nM  END\\n\",\"mol\");\n\tviewer_1739459956000583.addModel(\"CHEMBL34259_P10000018\\n     RDKit          3D\\n\\n 33 35  0  0  0  0  0  0  0  0999 V2000\\n    1.8764   -1.8373   -1.8921 C   0  0  0  0  0  0  0  0  0  0  0  0\\n    1.3855   -0.5957   -1.2874 N   0  0  0  0  0  0  0  0  0  0  0  0\\n    2.1914    0.6282   -1.3816 C   0  0  0  0  0  0  0  0  0  0  0  0\\n    3.4335    0.4951   -0.5513 C   0  0  0  0  0  0  0  0  0  0  0  0\\n    3.3557    0.3815    0.8456 C   0  0  0  0  0  0  0  0  0  0  0  0\\n    4.4960    0.2524    1.5744 N   0  0  0  0  0  0  0  0  0  0  0  0\\n    5.7130    0.2316    0.9721 C   0  0  0  0  0  0  0  0  0  0  0  0\\n    5.7953    0.3461   -0.4256 C   0  0  0  0  0  0  0  0  0  0  0  0\\n    4.6539    0.4750   -1.1532 N   0  0  0  0  0  0  0  0  0  0  0  0\\n    7.0615    0.3208   -1.0254 C   0  0  0  0  0  0  0  0  0  0  0  0\\n    8.1648    0.1883   -0.2405 N   0  0  0  0  0  0  0  0  0  0  0  0\\n    8.0657    0.0795    1.1126 C   0  0  0  0  0  0  0  0  0  0  0  0\\n    6.8442    0.1011    1.7103 N   0  0  0  0  0  0  0  0  0  0  0  0\\n    9.2434   -0.0578    1.9041 N   0  0  0  0  0  0  0  0  0  0  0  0\\n    7.2153    0.4314   -2.4428 N   0  0  0  0  0  0  0  0  0  0  0  0\\n    0.1292   -0.5919   -0.5836 C   0  0  0  0  0  0  0  0  0  0  0  0\\n   -0.1342   -1.5465    0.4121 C   0  0  0  0  0  0  0  0  0  0  0  0\\n   -1.3568   -1.5430    1.0900 C   0  0  0  0  0  0  0  0  0  0  0  0\\n   -2.3426   -0.5950    0.7730 C   0  0  0  0  0  0  0  0  0  0  0  0\\n   -2.0723    0.3698   -0.2099 C   0  0  0  0  0  0  0  0  0  0  0  0\\n   -0.8500    0.3674   -0.8869 C   0  0  0  0  0  0  0  0  0  0  0  0\\n   -3.6325   -0.5928    1.4965 C   0  0  0  0  0  0  0  0  0  0  0  0\\n   -3.6543   -0.9066    2.7172 O   0  0  0  0  0  0  0  0  0  0  0  0\\n   -4.8605   -0.2197    0.8531 N   0  0  0  0  0  0  0  0  0  0  0  0\\n   -5.2093   -0.6603   -0.5031 C   0  0  2  0  0  0  0  0  0  0  0  0\\n   -5.6610    0.5159   -1.4036 C   0  0  0  0  0  0  0  0  0  0  0  0\\n   -6.6666    1.5012   -0.7753 C   0  0  0  0  0  0  0  0  0  0  0  0\\n   -5.9957    2.5228    0.0956 C   0  0  0  0  0  0  0  0  0  0  0  0\\n   -6.3348    2.6491    1.3019 O   0  0  0  0  0  0  0  0  0  0  0  0\\n   -5.0190    3.3585   -0.4324 O   0  0  0  0  0  1  0  0  0  0  0  0\\n   -6.2540   -1.7423   -0.4339 C   0  0  0  0  0  0  0  0  0  0  0  0\\n   -6.0370   -2.8621   -0.9680 O   0  0  0  0  0  0  0  0  0  0  0  0\\n   -7.4568   -1.5263    0.2276 O   0  0  0  0  0  1  0  0  0  0  0  0\\n  1  2  1  0\\n  2  3  1  0\\n  3  4  1  0\\n  4  5  2  0\\n  5  6  1  0\\n  6  7  2  0\\n  7  8  1  0\\n  8  9  2  0\\n  8 10  1  0\\n 10 11  2  0\\n 11 12  1  0\\n 12 13  2  0\\n 12 14  1  0\\n 10 15  1  0\\n  2 16  1  0\\n 16 17  2  0\\n 17 18  1  0\\n 18 19  2  0\\n 19 20  1  0\\n 20 21  2  0\\n 19 22  1  0\\n 22 23  2  0\\n 22 24  1  0\\n 24 25  1  0\\n 25 26  1  1\\n 26 27  1  0\\n 27 28  1  0\\n 28 29  2  0\\n 28 30  1  0\\n 25 31  1  0\\n 31 32  2  0\\n 31 33  1  0\\n  9  4  1  0\\n 13  7  1  0\\n 21 16  1  0\\nM  CHG  2  30  -1  33  -1\\nM  END\\n\",\"mol\");\n\tviewer_1739459956000583.setStyle({\"stick\": {}});\n\tviewer_1739459956000583.zoomTo();\nviewer_1739459956000583.render();\n});\n</script>",
      "text/html": [
       "<div id=\"3dmolviewer_1739459956000583\"  style=\"position: relative; width: 400px; height: 300px;\">\n",
       "        <p id=\"3dmolwarning_1739459956000583\" style=\"background-color:#ffcccc;color:black\">3Dmol.js failed to load for some reason.  Please check your browser console for error messages.<br></p>\n",
       "        </div>\n",
       "<script>\n",
       "\n",
       "var loadScriptAsync = function(uri){\n",
       "  return new Promise((resolve, reject) => {\n",
       "    //this is to ignore the existence of requirejs amd\n",
       "    var savedexports, savedmodule;\n",
       "    if (typeof exports !== 'undefined') savedexports = exports;\n",
       "    else exports = {}\n",
       "    if (typeof module !== 'undefined') savedmodule = module;\n",
       "    else module = {}\n",
       "\n",
       "    var tag = document.createElement('script');\n",
       "    tag.src = uri;\n",
       "    tag.async = true;\n",
       "    tag.onload = () => {\n",
       "        exports = savedexports;\n",
       "        module = savedmodule;\n",
       "        resolve();\n",
       "    };\n",
       "  var firstScriptTag = document.getElementsByTagName('script')[0];\n",
       "  firstScriptTag.parentNode.insertBefore(tag, firstScriptTag);\n",
       "});\n",
       "};\n",
       "\n",
       "if(typeof $3Dmolpromise === 'undefined') {\n",
       "$3Dmolpromise = null;\n",
       "  $3Dmolpromise = loadScriptAsync('https://cdnjs.cloudflare.com/ajax/libs/3Dmol/2.4.0/3Dmol-min.js');\n",
       "}\n",
       "\n",
       "var viewer_1739459956000583 = null;\n",
       "var warn = document.getElementById(\"3dmolwarning_1739459956000583\");\n",
       "if(warn) {\n",
       "    warn.parentNode.removeChild(warn);\n",
       "}\n",
       "$3Dmolpromise.then(function() {\n",
       "viewer_1739459956000583 = $3Dmol.createViewer(document.getElementById(\"3dmolviewer_1739459956000583\"),{backgroundColor:\"white\"});\n",
       "viewer_1739459956000583.zoomTo();\n",
       "\tviewer_1739459956000583.addModel(\"\\n     RDKit          3D\\n\\n 31 34  0  0  0  0  0  0  0  0999 V2000\\n    6.6613    4.1501    0.0282 C   0  0  0  0  0  1  0  0  0  0  0  0\\n    6.4325    2.7345    0.3969 C   0  0  0  0  0  2  0  0  0  0  0  0\\n    6.0735    1.3387    0.1987 C   0  0  0  0  0  2  0  0  0  0  0  0\\n    5.9929   -0.0049    0.5037 C   0  0  0  0  0  0  0  0  0  0  0  0\\n    5.5139   -0.9826   -0.2849 C   0  0  0  0  0  0  0  0  0  0  0  0\\n    4.7549   -0.7730   -1.4346 C   0  0  0  0  0  2  0  0  0  0  0  0\\n    3.5176   -1.1295   -1.5836 O   0  0  0  0  0  0  0  0  0  0  0  0\\n    2.7690   -0.0766   -1.7744 C   0  0  0  0  0  2  0  0  0  0  0  0\\n    1.5595   -0.1071   -2.4304 C   0  0  0  0  0  3  0  0  0  0  0  0\\n    0.5515   -0.9547   -1.8825 C   0  0  0  0  0  2  0  0  0  0  0  0\\n    0.3383    0.4423   -2.0812 C   0  0  0  0  0  3  0  0  0  0  0  0\\n   -0.0871    1.1448   -0.9730 C   0  0  0  0  0  2  0  0  0  0  0  0\\n   -1.3437    0.7973   -0.3609 N   0  0  0  0  0  0  0  0  0  0  0  0\\n   -2.2809    0.1503   -1.1264 C   0  0  0  0  0  3  0  0  0  0  0  0\\n   -3.2037   -0.2793   -0.2251 C   0  0  0  0  0  0  0  0  0  0  0  0\\n   -4.2522   -1.0699   -0.6071 N   0  0  0  0  0  2  0  0  0  0  0  0\\n   -5.4472   -0.6695   -0.1316 C   0  0  0  0  0  0  0  0  0  0  0  0\\n   -6.1254   -1.4298    0.8263 C   0  0  0  0  0  3  0  0  0  0  0  0\\n   -7.3994   -1.0711    1.2617 C   0  0  0  0  0  3  0  0  0  0  0  0\\n   -8.0370    0.0439    0.7209 C   0  0  0  0  0  0  0  0  0  0  0  0\\n   -9.2850    0.3084    1.2220 O   0  0  0  0  0  0  0  0  0  0  0  0\\n  -10.0212    1.3155    0.5599 C   0  0  0  0  0  1  0  0  0  0  0  0\\n   -7.3871    0.8054   -0.2464 C   0  0  0  0  0  3  0  0  0  0  0  0\\n   -6.1110    0.4426   -0.6707 C   0  0  0  0  0  3  0  0  0  0  0  0\\n   -2.8396    0.1270    1.0362 N   0  0  0  0  0  0  0  0  0  0  0  0\\n   -1.6686    0.7703    0.9396 N   0  0  0  0  0  0  0  0  0  0  0  0\\n    5.5907   -2.1387    0.5037 C   0  0  0  0  0  0  0  0  0  0  0  0\\n    5.0819   -3.5080    0.0513 C   0  0  0  0  0  1  0  0  0  0  0  0\\n    6.0534   -1.8941    1.7275 N   0  0  0  0  0  0  0  0  0  0  0  0\\n    6.2646   -0.5838    1.6976 N   0  0  0  0  0  0  0  0  0  0  0  0\\n    6.6532    0.1904    2.8734 C   0  0  0  0  0  1  0  0  0  0  0  0\\n  2  1  1  0\\n  3  2  1  0\\n  4  3  1  0\\n  5  4  2  0\\n  6  5  1  0\\n  7  6  1  0\\n  8  7  1  0\\n  9  8  1  0\\n 10  9  1  0\\n 11  9  1  0\\n 11 10  1  0\\n 12 11  1  0\\n 13 12  1  0\\n 14 13  1  0\\n 15 14  2  0\\n 16 15  1  0\\n 17 16  1  0\\n 18 17  2  0\\n 19 18  1  0\\n 20 19  2  0\\n 21 20  1  0\\n 22 21  1  0\\n 23 20  1  0\\n 24 17  1  0\\n 24 23  2  0\\n 25 15  1  0\\n 26 13  1  0\\n 26 25  2  0\\n 27  5  1  0\\n 28 27  1  0\\n 29 27  2  0\\n 30  4  1  0\\n 30 29  1  0\\n 31 30  1  0\\nM  RAD  8   1   2   2   3   3   3   6   3   8   3   9   2  10   3  11   2\\nM  RAD  8  12   3  14   2  16   2  18   2  19   2  22   2  23   2  24   2\\nM  RAD  2  28   2  31   2\\nM  END\\n\",\"mol\");\n",
       "\tviewer_1739459956000583.addModel(\"CHEMBL34259_P10000018\\n     RDKit          3D\\n\\n 33 35  0  0  0  0  0  0  0  0999 V2000\\n    1.8764   -1.8373   -1.8921 C   0  0  0  0  0  0  0  0  0  0  0  0\\n    1.3855   -0.5957   -1.2874 N   0  0  0  0  0  0  0  0  0  0  0  0\\n    2.1914    0.6282   -1.3816 C   0  0  0  0  0  0  0  0  0  0  0  0\\n    3.4335    0.4951   -0.5513 C   0  0  0  0  0  0  0  0  0  0  0  0\\n    3.3557    0.3815    0.8456 C   0  0  0  0  0  0  0  0  0  0  0  0\\n    4.4960    0.2524    1.5744 N   0  0  0  0  0  0  0  0  0  0  0  0\\n    5.7130    0.2316    0.9721 C   0  0  0  0  0  0  0  0  0  0  0  0\\n    5.7953    0.3461   -0.4256 C   0  0  0  0  0  0  0  0  0  0  0  0\\n    4.6539    0.4750   -1.1532 N   0  0  0  0  0  0  0  0  0  0  0  0\\n    7.0615    0.3208   -1.0254 C   0  0  0  0  0  0  0  0  0  0  0  0\\n    8.1648    0.1883   -0.2405 N   0  0  0  0  0  0  0  0  0  0  0  0\\n    8.0657    0.0795    1.1126 C   0  0  0  0  0  0  0  0  0  0  0  0\\n    6.8442    0.1011    1.7103 N   0  0  0  0  0  0  0  0  0  0  0  0\\n    9.2434   -0.0578    1.9041 N   0  0  0  0  0  0  0  0  0  0  0  0\\n    7.2153    0.4314   -2.4428 N   0  0  0  0  0  0  0  0  0  0  0  0\\n    0.1292   -0.5919   -0.5836 C   0  0  0  0  0  0  0  0  0  0  0  0\\n   -0.1342   -1.5465    0.4121 C   0  0  0  0  0  0  0  0  0  0  0  0\\n   -1.3568   -1.5430    1.0900 C   0  0  0  0  0  0  0  0  0  0  0  0\\n   -2.3426   -0.5950    0.7730 C   0  0  0  0  0  0  0  0  0  0  0  0\\n   -2.0723    0.3698   -0.2099 C   0  0  0  0  0  0  0  0  0  0  0  0\\n   -0.8500    0.3674   -0.8869 C   0  0  0  0  0  0  0  0  0  0  0  0\\n   -3.6325   -0.5928    1.4965 C   0  0  0  0  0  0  0  0  0  0  0  0\\n   -3.6543   -0.9066    2.7172 O   0  0  0  0  0  0  0  0  0  0  0  0\\n   -4.8605   -0.2197    0.8531 N   0  0  0  0  0  0  0  0  0  0  0  0\\n   -5.2093   -0.6603   -0.5031 C   0  0  2  0  0  0  0  0  0  0  0  0\\n   -5.6610    0.5159   -1.4036 C   0  0  0  0  0  0  0  0  0  0  0  0\\n   -6.6666    1.5012   -0.7753 C   0  0  0  0  0  0  0  0  0  0  0  0\\n   -5.9957    2.5228    0.0956 C   0  0  0  0  0  0  0  0  0  0  0  0\\n   -6.3348    2.6491    1.3019 O   0  0  0  0  0  0  0  0  0  0  0  0\\n   -5.0190    3.3585   -0.4324 O   0  0  0  0  0  1  0  0  0  0  0  0\\n   -6.2540   -1.7423   -0.4339 C   0  0  0  0  0  0  0  0  0  0  0  0\\n   -6.0370   -2.8621   -0.9680 O   0  0  0  0  0  0  0  0  0  0  0  0\\n   -7.4568   -1.5263    0.2276 O   0  0  0  0  0  1  0  0  0  0  0  0\\n  1  2  1  0\\n  2  3  1  0\\n  3  4  1  0\\n  4  5  2  0\\n  5  6  1  0\\n  6  7  2  0\\n  7  8  1  0\\n  8  9  2  0\\n  8 10  1  0\\n 10 11  2  0\\n 11 12  1  0\\n 12 13  2  0\\n 12 14  1  0\\n 10 15  1  0\\n  2 16  1  0\\n 16 17  2  0\\n 17 18  1  0\\n 18 19  2  0\\n 19 20  1  0\\n 20 21  2  0\\n 19 22  1  0\\n 22 23  2  0\\n 22 24  1  0\\n 24 25  1  0\\n 25 26  1  1\\n 26 27  1  0\\n 27 28  1  0\\n 28 29  2  0\\n 28 30  1  0\\n 25 31  1  0\\n 31 32  2  0\\n 31 33  1  0\\n  9  4  1  0\\n 13  7  1  0\\n 21 16  1  0\\nM  CHG  2  30  -1  33  -1\\nM  END\\n\",\"mol\");\n",
       "\tviewer_1739459956000583.setStyle({\"stick\": {}});\n",
       "\tviewer_1739459956000583.zoomTo();\n",
       "viewer_1739459956000583.render();\n",
       "});\n",
       "</script>"
      ]
     },
     "metadata": {},
     "output_type": "display_data"
    },
    {
     "name": "stdout",
     "output_type": "stream",
     "text": [
      "Shape Tanimoto - 0.701576962632842\n"
     ]
    },
    {
     "data": {
      "application/3dmoljs_load.v0": "<div id=\"3dmolviewer_17394599560013518\"  style=\"position: relative; width: 400px; height: 300px;\">\n        <p id=\"3dmolwarning_17394599560013518\" style=\"background-color:#ffcccc;color:black\">3Dmol.js failed to load for some reason.  Please check your browser console for error messages.<br></p>\n        </div>\n<script>\n\nvar loadScriptAsync = function(uri){\n  return new Promise((resolve, reject) => {\n    //this is to ignore the existence of requirejs amd\n    var savedexports, savedmodule;\n    if (typeof exports !== 'undefined') savedexports = exports;\n    else exports = {}\n    if (typeof module !== 'undefined') savedmodule = module;\n    else module = {}\n\n    var tag = document.createElement('script');\n    tag.src = uri;\n    tag.async = true;\n    tag.onload = () => {\n        exports = savedexports;\n        module = savedmodule;\n        resolve();\n    };\n  var firstScriptTag = document.getElementsByTagName('script')[0];\n  firstScriptTag.parentNode.insertBefore(tag, firstScriptTag);\n});\n};\n\nif(typeof $3Dmolpromise === 'undefined') {\n$3Dmolpromise = null;\n  $3Dmolpromise = loadScriptAsync('https://cdnjs.cloudflare.com/ajax/libs/3Dmol/2.4.0/3Dmol-min.js');\n}\n\nvar viewer_17394599560013518 = null;\nvar warn = document.getElementById(\"3dmolwarning_17394599560013518\");\nif(warn) {\n    warn.parentNode.removeChild(warn);\n}\n$3Dmolpromise.then(function() {\nviewer_17394599560013518 = $3Dmol.createViewer(document.getElementById(\"3dmolviewer_17394599560013518\"),{backgroundColor:\"white\"});\nviewer_17394599560013518.zoomTo();\n\tviewer_17394599560013518.addModel(\"\\n     RDKit          3D\\n\\n 32 36  0  0  0  0  0  0  0  0999 V2000\\n   -8.7343   -2.8546    1.6584 C   0  0  0  0  0  1  0  0  0  0  0  0\\n   -8.0398   -1.6530    1.8948 O   0  0  0  0  0  0  0  0  0  0  0  0\\n   -7.3525   -1.1402    0.8233 C   0  0  0  0  0  0  0  0  0  0  0  0\\n   -7.3648   -1.6581   -0.4744 C   0  0  0  0  0  3  0  0  0  0  0  0\\n   -6.6168   -1.0519   -1.4869 C   0  0  0  0  0  3  0  0  0  0  0  0\\n   -5.8429    0.0728   -1.2077 C   0  0  0  0  0  0  0  0  0  0  0  0\\n   -5.1267    0.6110   -2.2533 O   0  0  0  0  0  0  0  0  0  0  0  0\\n   -4.1317    1.4107   -1.8986 C   0  0  0  0  0  2  0  0  0  0  0  0\\n   -2.9492    1.6209   -1.1497 C   0  0  0  0  0  0  0  0  0  0  0  0\\n   -3.0438    2.1087    0.1570 C   0  0  0  0  0  3  0  0  0  0  0  0\\n   -1.9677    2.0572    1.0438 C   0  0  0  0  0  3  0  0  0  0  0  0\\n   -0.8189    1.4888    0.5103 C   0  0  0  0  0  0  0  0  0  0  0  0\\n    0.4001    1.3962    1.1037 O   0  0  0  0  0  0  0  0  0  0  0  0\\n    1.2047    0.8329    0.1365 C   0  0  0  0  0  0  0  0  0  0  0  0\\n    2.6220    0.7406    0.3009 C   0  0  0  0  0  0  0  0  0  0  0  0\\n    3.4919    0.4714   -0.6657 N   0  0  0  0  0  0  0  0  0  0  0  0\\n    4.7090    0.5984   -0.0434 C   0  0  0  0  0  0  0  0  0  0  0  0\\n    5.9593    0.3372   -0.6954 C   0  0  0  0  0  3  0  0  0  0  0  0\\n    6.0880   -0.7042   -1.7033 C   0  0  0  0  0  2  0  0  0  0  0  0\\n    7.2161   -1.7253   -1.8585 C   0  0  0  0  0  2  0  0  0  0  0  0\\n    7.3311   -2.7955   -0.7797 C   0  0  0  0  0  2  0  0  0  0  0  0\\n    6.9972   -2.3206    0.6319 C   0  0  0  0  0  2  0  0  0  0  0  0\\n    7.3826   -0.9435    1.1542 C   0  0  0  0  0  2  0  0  0  0  0  0\\n    7.0492    0.2453    0.2467 C   0  0  0  0  0  2  0  0  0  0  0  0\\n    4.5202    0.9189    1.2921 C   0  0  0  0  0  0  0  0  0  0  0  0\\n    5.5546    1.1014    2.4222 C   0  0  0  0  0  1  0  0  0  0  0  0\\n    3.1915    1.0092    1.5138 O   0  0  0  0  0  0  0  0  0  0  0  0\\n    0.5566    0.4728   -0.9548 N   0  0  0  0  0  0  0  0  0  0  0  0\\n   -0.7069    0.9438   -0.7549 C   0  0  0  0  0  0  0  0  0  0  0  0\\n   -1.8065    0.9639   -1.6044 C   0  0  0  0  0  3  0  0  0  0  0  0\\n   -5.8520    0.5990    0.0853 C   0  0  0  0  0  3  0  0  0  0  0  0\\n   -6.5975   -0.0018    1.0951 C   0  0  0  0  0  3  0  0  0  0  0  0\\n  2  1  1  0\\n  3  2  1  0\\n  4  3  2  0\\n  5  4  1  0\\n  6  5  2  0\\n  7  6  1  0\\n  8  7  1  0\\n  9  8  1  0\\n 10  9  2  0\\n 11 10  1  0\\n 12 11  2  0\\n 13 12  1  0\\n 14 13  1  0\\n 15 14  1  0\\n 16 15  2  0\\n 17 16  1  0\\n 18 17  1  0\\n 19 18  1  0\\n 20 19  1  0\\n 21 20  1  0\\n 22 21  1  0\\n 23 22  1  0\\n 24 18  1  0\\n 24 23  1  0\\n 25 17  2  0\\n 26 25  1  0\\n 27 15  1  0\\n 27 25  1  0\\n 28 14  2  0\\n 29 12  1  0\\n 29 28  1  0\\n 30  9  1  0\\n 30 29  2  0\\n 31  6  1  0\\n 32  3  1  0\\n 32 31  2  0\\nM  RAD  8   1   2   4   2   5   2   8   3  10   2  11   2  18   2  19   3\\nM  RAD  8  20   3  21   3  22   3  23   3  24   3  26   2  30   2  31   2\\nM  RAD  1  32   2\\nM  END\\n\",\"mol\");\n\tviewer_17394599560013518.addModel(\"CHEMBL34259_P10000018\\n     RDKit          3D\\n\\n 33 35  0  0  0  0  0  0  0  0999 V2000\\n    1.8764   -1.8373   -1.8921 C   0  0  0  0  0  0  0  0  0  0  0  0\\n    1.3855   -0.5957   -1.2874 N   0  0  0  0  0  0  0  0  0  0  0  0\\n    2.1914    0.6282   -1.3816 C   0  0  0  0  0  0  0  0  0  0  0  0\\n    3.4335    0.4951   -0.5513 C   0  0  0  0  0  0  0  0  0  0  0  0\\n    3.3557    0.3815    0.8456 C   0  0  0  0  0  0  0  0  0  0  0  0\\n    4.4960    0.2524    1.5744 N   0  0  0  0  0  0  0  0  0  0  0  0\\n    5.7130    0.2316    0.9721 C   0  0  0  0  0  0  0  0  0  0  0  0\\n    5.7953    0.3461   -0.4256 C   0  0  0  0  0  0  0  0  0  0  0  0\\n    4.6539    0.4750   -1.1532 N   0  0  0  0  0  0  0  0  0  0  0  0\\n    7.0615    0.3208   -1.0254 C   0  0  0  0  0  0  0  0  0  0  0  0\\n    8.1648    0.1883   -0.2405 N   0  0  0  0  0  0  0  0  0  0  0  0\\n    8.0657    0.0795    1.1126 C   0  0  0  0  0  0  0  0  0  0  0  0\\n    6.8442    0.1011    1.7103 N   0  0  0  0  0  0  0  0  0  0  0  0\\n    9.2434   -0.0578    1.9041 N   0  0  0  0  0  0  0  0  0  0  0  0\\n    7.2153    0.4314   -2.4428 N   0  0  0  0  0  0  0  0  0  0  0  0\\n    0.1292   -0.5919   -0.5836 C   0  0  0  0  0  0  0  0  0  0  0  0\\n   -0.1342   -1.5465    0.4121 C   0  0  0  0  0  0  0  0  0  0  0  0\\n   -1.3568   -1.5430    1.0900 C   0  0  0  0  0  0  0  0  0  0  0  0\\n   -2.3426   -0.5950    0.7730 C   0  0  0  0  0  0  0  0  0  0  0  0\\n   -2.0723    0.3698   -0.2099 C   0  0  0  0  0  0  0  0  0  0  0  0\\n   -0.8500    0.3674   -0.8869 C   0  0  0  0  0  0  0  0  0  0  0  0\\n   -3.6325   -0.5928    1.4965 C   0  0  0  0  0  0  0  0  0  0  0  0\\n   -3.6543   -0.9066    2.7172 O   0  0  0  0  0  0  0  0  0  0  0  0\\n   -4.8605   -0.2197    0.8531 N   0  0  0  0  0  0  0  0  0  0  0  0\\n   -5.2093   -0.6603   -0.5031 C   0  0  2  0  0  0  0  0  0  0  0  0\\n   -5.6610    0.5159   -1.4036 C   0  0  0  0  0  0  0  0  0  0  0  0\\n   -6.6666    1.5012   -0.7753 C   0  0  0  0  0  0  0  0  0  0  0  0\\n   -5.9957    2.5228    0.0956 C   0  0  0  0  0  0  0  0  0  0  0  0\\n   -6.3348    2.6491    1.3019 O   0  0  0  0  0  0  0  0  0  0  0  0\\n   -5.0190    3.3585   -0.4324 O   0  0  0  0  0  1  0  0  0  0  0  0\\n   -6.2540   -1.7423   -0.4339 C   0  0  0  0  0  0  0  0  0  0  0  0\\n   -6.0370   -2.8621   -0.9680 O   0  0  0  0  0  0  0  0  0  0  0  0\\n   -7.4568   -1.5263    0.2276 O   0  0  0  0  0  1  0  0  0  0  0  0\\n  1  2  1  0\\n  2  3  1  0\\n  3  4  1  0\\n  4  5  2  0\\n  5  6  1  0\\n  6  7  2  0\\n  7  8  1  0\\n  8  9  2  0\\n  8 10  1  0\\n 10 11  2  0\\n 11 12  1  0\\n 12 13  2  0\\n 12 14  1  0\\n 10 15  1  0\\n  2 16  1  0\\n 16 17  2  0\\n 17 18  1  0\\n 18 19  2  0\\n 19 20  1  0\\n 20 21  2  0\\n 19 22  1  0\\n 22 23  2  0\\n 22 24  1  0\\n 24 25  1  0\\n 25 26  1  1\\n 26 27  1  0\\n 27 28  1  0\\n 28 29  2  0\\n 28 30  1  0\\n 25 31  1  0\\n 31 32  2  0\\n 31 33  1  0\\n  9  4  1  0\\n 13  7  1  0\\n 21 16  1  0\\nM  CHG  2  30  -1  33  -1\\nM  END\\n\",\"mol\");\n\tviewer_17394599560013518.setStyle({\"stick\": {}});\n\tviewer_17394599560013518.zoomTo();\nviewer_17394599560013518.render();\n});\n</script>",
      "text/html": [
       "<div id=\"3dmolviewer_17394599560013518\"  style=\"position: relative; width: 400px; height: 300px;\">\n",
       "        <p id=\"3dmolwarning_17394599560013518\" style=\"background-color:#ffcccc;color:black\">3Dmol.js failed to load for some reason.  Please check your browser console for error messages.<br></p>\n",
       "        </div>\n",
       "<script>\n",
       "\n",
       "var loadScriptAsync = function(uri){\n",
       "  return new Promise((resolve, reject) => {\n",
       "    //this is to ignore the existence of requirejs amd\n",
       "    var savedexports, savedmodule;\n",
       "    if (typeof exports !== 'undefined') savedexports = exports;\n",
       "    else exports = {}\n",
       "    if (typeof module !== 'undefined') savedmodule = module;\n",
       "    else module = {}\n",
       "\n",
       "    var tag = document.createElement('script');\n",
       "    tag.src = uri;\n",
       "    tag.async = true;\n",
       "    tag.onload = () => {\n",
       "        exports = savedexports;\n",
       "        module = savedmodule;\n",
       "        resolve();\n",
       "    };\n",
       "  var firstScriptTag = document.getElementsByTagName('script')[0];\n",
       "  firstScriptTag.parentNode.insertBefore(tag, firstScriptTag);\n",
       "});\n",
       "};\n",
       "\n",
       "if(typeof $3Dmolpromise === 'undefined') {\n",
       "$3Dmolpromise = null;\n",
       "  $3Dmolpromise = loadScriptAsync('https://cdnjs.cloudflare.com/ajax/libs/3Dmol/2.4.0/3Dmol-min.js');\n",
       "}\n",
       "\n",
       "var viewer_17394599560013518 = null;\n",
       "var warn = document.getElementById(\"3dmolwarning_17394599560013518\");\n",
       "if(warn) {\n",
       "    warn.parentNode.removeChild(warn);\n",
       "}\n",
       "$3Dmolpromise.then(function() {\n",
       "viewer_17394599560013518 = $3Dmol.createViewer(document.getElementById(\"3dmolviewer_17394599560013518\"),{backgroundColor:\"white\"});\n",
       "viewer_17394599560013518.zoomTo();\n",
       "\tviewer_17394599560013518.addModel(\"\\n     RDKit          3D\\n\\n 32 36  0  0  0  0  0  0  0  0999 V2000\\n   -8.7343   -2.8546    1.6584 C   0  0  0  0  0  1  0  0  0  0  0  0\\n   -8.0398   -1.6530    1.8948 O   0  0  0  0  0  0  0  0  0  0  0  0\\n   -7.3525   -1.1402    0.8233 C   0  0  0  0  0  0  0  0  0  0  0  0\\n   -7.3648   -1.6581   -0.4744 C   0  0  0  0  0  3  0  0  0  0  0  0\\n   -6.6168   -1.0519   -1.4869 C   0  0  0  0  0  3  0  0  0  0  0  0\\n   -5.8429    0.0728   -1.2077 C   0  0  0  0  0  0  0  0  0  0  0  0\\n   -5.1267    0.6110   -2.2533 O   0  0  0  0  0  0  0  0  0  0  0  0\\n   -4.1317    1.4107   -1.8986 C   0  0  0  0  0  2  0  0  0  0  0  0\\n   -2.9492    1.6209   -1.1497 C   0  0  0  0  0  0  0  0  0  0  0  0\\n   -3.0438    2.1087    0.1570 C   0  0  0  0  0  3  0  0  0  0  0  0\\n   -1.9677    2.0572    1.0438 C   0  0  0  0  0  3  0  0  0  0  0  0\\n   -0.8189    1.4888    0.5103 C   0  0  0  0  0  0  0  0  0  0  0  0\\n    0.4001    1.3962    1.1037 O   0  0  0  0  0  0  0  0  0  0  0  0\\n    1.2047    0.8329    0.1365 C   0  0  0  0  0  0  0  0  0  0  0  0\\n    2.6220    0.7406    0.3009 C   0  0  0  0  0  0  0  0  0  0  0  0\\n    3.4919    0.4714   -0.6657 N   0  0  0  0  0  0  0  0  0  0  0  0\\n    4.7090    0.5984   -0.0434 C   0  0  0  0  0  0  0  0  0  0  0  0\\n    5.9593    0.3372   -0.6954 C   0  0  0  0  0  3  0  0  0  0  0  0\\n    6.0880   -0.7042   -1.7033 C   0  0  0  0  0  2  0  0  0  0  0  0\\n    7.2161   -1.7253   -1.8585 C   0  0  0  0  0  2  0  0  0  0  0  0\\n    7.3311   -2.7955   -0.7797 C   0  0  0  0  0  2  0  0  0  0  0  0\\n    6.9972   -2.3206    0.6319 C   0  0  0  0  0  2  0  0  0  0  0  0\\n    7.3826   -0.9435    1.1542 C   0  0  0  0  0  2  0  0  0  0  0  0\\n    7.0492    0.2453    0.2467 C   0  0  0  0  0  2  0  0  0  0  0  0\\n    4.5202    0.9189    1.2921 C   0  0  0  0  0  0  0  0  0  0  0  0\\n    5.5546    1.1014    2.4222 C   0  0  0  0  0  1  0  0  0  0  0  0\\n    3.1915    1.0092    1.5138 O   0  0  0  0  0  0  0  0  0  0  0  0\\n    0.5566    0.4728   -0.9548 N   0  0  0  0  0  0  0  0  0  0  0  0\\n   -0.7069    0.9438   -0.7549 C   0  0  0  0  0  0  0  0  0  0  0  0\\n   -1.8065    0.9639   -1.6044 C   0  0  0  0  0  3  0  0  0  0  0  0\\n   -5.8520    0.5990    0.0853 C   0  0  0  0  0  3  0  0  0  0  0  0\\n   -6.5975   -0.0018    1.0951 C   0  0  0  0  0  3  0  0  0  0  0  0\\n  2  1  1  0\\n  3  2  1  0\\n  4  3  2  0\\n  5  4  1  0\\n  6  5  2  0\\n  7  6  1  0\\n  8  7  1  0\\n  9  8  1  0\\n 10  9  2  0\\n 11 10  1  0\\n 12 11  2  0\\n 13 12  1  0\\n 14 13  1  0\\n 15 14  1  0\\n 16 15  2  0\\n 17 16  1  0\\n 18 17  1  0\\n 19 18  1  0\\n 20 19  1  0\\n 21 20  1  0\\n 22 21  1  0\\n 23 22  1  0\\n 24 18  1  0\\n 24 23  1  0\\n 25 17  2  0\\n 26 25  1  0\\n 27 15  1  0\\n 27 25  1  0\\n 28 14  2  0\\n 29 12  1  0\\n 29 28  1  0\\n 30  9  1  0\\n 30 29  2  0\\n 31  6  1  0\\n 32  3  1  0\\n 32 31  2  0\\nM  RAD  8   1   2   4   2   5   2   8   3  10   2  11   2  18   2  19   3\\nM  RAD  8  20   3  21   3  22   3  23   3  24   3  26   2  30   2  31   2\\nM  RAD  1  32   2\\nM  END\\n\",\"mol\");\n",
       "\tviewer_17394599560013518.addModel(\"CHEMBL34259_P10000018\\n     RDKit          3D\\n\\n 33 35  0  0  0  0  0  0  0  0999 V2000\\n    1.8764   -1.8373   -1.8921 C   0  0  0  0  0  0  0  0  0  0  0  0\\n    1.3855   -0.5957   -1.2874 N   0  0  0  0  0  0  0  0  0  0  0  0\\n    2.1914    0.6282   -1.3816 C   0  0  0  0  0  0  0  0  0  0  0  0\\n    3.4335    0.4951   -0.5513 C   0  0  0  0  0  0  0  0  0  0  0  0\\n    3.3557    0.3815    0.8456 C   0  0  0  0  0  0  0  0  0  0  0  0\\n    4.4960    0.2524    1.5744 N   0  0  0  0  0  0  0  0  0  0  0  0\\n    5.7130    0.2316    0.9721 C   0  0  0  0  0  0  0  0  0  0  0  0\\n    5.7953    0.3461   -0.4256 C   0  0  0  0  0  0  0  0  0  0  0  0\\n    4.6539    0.4750   -1.1532 N   0  0  0  0  0  0  0  0  0  0  0  0\\n    7.0615    0.3208   -1.0254 C   0  0  0  0  0  0  0  0  0  0  0  0\\n    8.1648    0.1883   -0.2405 N   0  0  0  0  0  0  0  0  0  0  0  0\\n    8.0657    0.0795    1.1126 C   0  0  0  0  0  0  0  0  0  0  0  0\\n    6.8442    0.1011    1.7103 N   0  0  0  0  0  0  0  0  0  0  0  0\\n    9.2434   -0.0578    1.9041 N   0  0  0  0  0  0  0  0  0  0  0  0\\n    7.2153    0.4314   -2.4428 N   0  0  0  0  0  0  0  0  0  0  0  0\\n    0.1292   -0.5919   -0.5836 C   0  0  0  0  0  0  0  0  0  0  0  0\\n   -0.1342   -1.5465    0.4121 C   0  0  0  0  0  0  0  0  0  0  0  0\\n   -1.3568   -1.5430    1.0900 C   0  0  0  0  0  0  0  0  0  0  0  0\\n   -2.3426   -0.5950    0.7730 C   0  0  0  0  0  0  0  0  0  0  0  0\\n   -2.0723    0.3698   -0.2099 C   0  0  0  0  0  0  0  0  0  0  0  0\\n   -0.8500    0.3674   -0.8869 C   0  0  0  0  0  0  0  0  0  0  0  0\\n   -3.6325   -0.5928    1.4965 C   0  0  0  0  0  0  0  0  0  0  0  0\\n   -3.6543   -0.9066    2.7172 O   0  0  0  0  0  0  0  0  0  0  0  0\\n   -4.8605   -0.2197    0.8531 N   0  0  0  0  0  0  0  0  0  0  0  0\\n   -5.2093   -0.6603   -0.5031 C   0  0  2  0  0  0  0  0  0  0  0  0\\n   -5.6610    0.5159   -1.4036 C   0  0  0  0  0  0  0  0  0  0  0  0\\n   -6.6666    1.5012   -0.7753 C   0  0  0  0  0  0  0  0  0  0  0  0\\n   -5.9957    2.5228    0.0956 C   0  0  0  0  0  0  0  0  0  0  0  0\\n   -6.3348    2.6491    1.3019 O   0  0  0  0  0  0  0  0  0  0  0  0\\n   -5.0190    3.3585   -0.4324 O   0  0  0  0  0  1  0  0  0  0  0  0\\n   -6.2540   -1.7423   -0.4339 C   0  0  0  0  0  0  0  0  0  0  0  0\\n   -6.0370   -2.8621   -0.9680 O   0  0  0  0  0  0  0  0  0  0  0  0\\n   -7.4568   -1.5263    0.2276 O   0  0  0  0  0  1  0  0  0  0  0  0\\n  1  2  1  0\\n  2  3  1  0\\n  3  4  1  0\\n  4  5  2  0\\n  5  6  1  0\\n  6  7  2  0\\n  7  8  1  0\\n  8  9  2  0\\n  8 10  1  0\\n 10 11  2  0\\n 11 12  1  0\\n 12 13  2  0\\n 12 14  1  0\\n 10 15  1  0\\n  2 16  1  0\\n 16 17  2  0\\n 17 18  1  0\\n 18 19  2  0\\n 19 20  1  0\\n 20 21  2  0\\n 19 22  1  0\\n 22 23  2  0\\n 22 24  1  0\\n 24 25  1  0\\n 25 26  1  1\\n 26 27  1  0\\n 27 28  1  0\\n 28 29  2  0\\n 28 30  1  0\\n 25 31  1  0\\n 31 32  2  0\\n 31 33  1  0\\n  9  4  1  0\\n 13  7  1  0\\n 21 16  1  0\\nM  CHG  2  30  -1  33  -1\\nM  END\\n\",\"mol\");\n",
       "\tviewer_17394599560013518.setStyle({\"stick\": {}});\n",
       "\tviewer_17394599560013518.zoomTo();\n",
       "viewer_17394599560013518.render();\n",
       "});\n",
       "</script>"
      ]
     },
     "metadata": {},
     "output_type": "display_data"
    },
    {
     "name": "stdout",
     "output_type": "stream",
     "text": [
      "Shape Tanimoto - 0.67916522341531\n"
     ]
    }
   ],
   "source": [
    "import py3Dmol\n",
    "\n",
    "from ml_conformer_generator import MLConformerGenerator\n",
    "from cheminformatics import evaluate_samples\n",
    "from rdkit import Chem\n",
    "from rdkit.Chem import rdDistGeom\n",
    "\n",
    "from rdkit.Chem import Draw\n",
    "\n",
    "\n",
    "device = \"cpu\"\n",
    "generator = MLConformerGenerator(device=device)\n",
    "\n",
    "\n",
    "ref_mol = Chem.MolFromMolFile(\"test_1.mol\")\n",
    "# rdDistGeom.EmbedMolecule(ref_mol, forceTol=0.001, randomSeed=12)\n",
    "\n",
    "samples = generator.generate_conformers(reference_conformer=ref_mol, n_samples=4)\n",
    "print(samples)\n",
    "\n",
    "for sample in samples:\n",
    "    smi = Chem.MolFromSmiles(Chem.MolToSmiles(sample))\n",
    "    img = Draw.MolToImage(smi, size=(200, 200))\n",
    "    display(img)\n",
    "    \n",
    "_, std_samples = evaluate_samples(ref_mol, samples)\n",
    "\n",
    "view = py3Dmol.view(width=400, height=300, viewergrid=(2,2))\n",
    "\n",
    "for sample in std_samples:\n",
    "    view = py3Dmol.view(width=400, height=300)\n",
    "    view.addModel(sample['mol_block'], 'mol')\n",
    "    view.addModel(Chem.MolToMolBlock(ref_mol), 'mol')\n",
    "    view.setStyle({'stick': {}})\n",
    "    view.zoomTo()\n",
    "    view.show()\n",
    "    print(f\"Shape Tanimoto - {sample['shape_tanimoto']}\")"
   ]
  },
  {
   "cell_type": "code",
   "execution_count": null,
   "id": "d15d61f0-a8dd-4705-9571-cdffee169ce5",
   "metadata": {},
   "outputs": [],
   "source": []
  },
  {
   "cell_type": "code",
   "execution_count": null,
   "id": "58c359d0-9e42-49d6-bfb1-53537a4ef122",
   "metadata": {},
   "outputs": [],
   "source": []
  }
 ],
 "metadata": {
  "kernelspec": {
   "display_name": "Python 3 (ipykernel)",
   "language": "python",
   "name": "python3"
  },
  "language_info": {
   "codemirror_mode": {
    "name": "ipython",
    "version": 3
   },
   "file_extension": ".py",
   "mimetype": "text/x-python",
   "name": "python",
   "nbconvert_exporter": "python",
   "pygments_lexer": "ipython3",
   "version": "3.10.10"
  }
 },
 "nbformat": 4,
 "nbformat_minor": 5
}
